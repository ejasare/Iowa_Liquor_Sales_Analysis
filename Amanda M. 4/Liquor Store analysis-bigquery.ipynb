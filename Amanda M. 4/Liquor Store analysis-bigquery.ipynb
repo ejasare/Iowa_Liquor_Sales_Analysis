{
 "cells": [
  {
   "cell_type": "code",
   "execution_count": null,
   "id": "8479e644",
   "metadata": {},
   "outputs": [],
   "source": [
    "import pandas as pd\n",
    "import matplotlib.pyplot as plt\n",
    "import plotly as py\n",
    "import plotly.express as px\n",
    "import numpy as np\n",
    "import gmaps\n",
    "import gmaps.datasets \n",
    "from folium import Map\n",
    "from folium.plugins import HeatMap\n",
    "import seaborn as sns\n",
    "from sklearn.model_selection import train_test_split\n",
    "from sklearn.model_selection import cross_val_score\n",
    "from sklearn.model_selection import StratifiedKFold\n",
    "from sklearn.metrics import classification_report\n",
    "from sklearn.metrics import confusion_matrix\n",
    "from sklearn.metrics import accuracy_score\n",
    "from sklearn.linear_model import LogisticRegression\n",
    "from sklearn.linear_model import LinearRegression\n",
    "from sklearn.tree import DecisionTreeClassifier\n",
    "from sklearn.neighbors import KNeighborsClassifier\n",
    "from sklearn.discriminant_analysis import LinearDiscriminantAnalysis\n",
    "from sklearn.naive_bayes import GaussianNB\n",
    "from sklearn.svm import SVC\n",
    "pd.set_option('display.max_columns', 500)\n",
    "pd.set_option('display.max_rows', 500)\n",
    "import warnings\n",
    "warnings.filterwarnings('ignore')"
   ]
  },
  {
   "cell_type": "markdown",
   "id": "cf5020eb",
   "metadata": {},
   "source": [
    "# Because of the size of the dataset we must store the dataset in googlebigquery and then take the data as needed for our analysis"
   ]
  },
  {
   "cell_type": "code",
   "execution_count": null,
   "id": "1d6bbde7",
   "metadata": {
    "scrolled": true
   },
   "outputs": [],
   "source": [
    "#Set environment variables for your notebook\n",
    "import pyarrow \n",
    "import os \n",
    "os.environ['GOOGLE_APPLICATION_CREDENTIALS'] = '/Users/amandamanfredo/Downloads/liquor_data.json'\n",
    "#Imports google cloud client library and initiates BQ service\n",
    "from google.cloud import bigquery\n",
    "bigquery_client = bigquery.Client()\n",
    "#Write Query on BQ\n",
    "QUERY = \"\"\"\n",
    "SELECT date,store_number,store_name,address,city,zip_code,store_location,\n",
    "county,category_name,vendor_number,vendor_name,item_description,pack,\n",
    "bottle_volume_ml,state_bottle_cost,state_bottle_retail,bottles_sold,\n",
    "sale_dollars,volume_sold_liters\n",
    "FROM `bigquery-public-data.iowa_liquor_sales.sales` \n",
    "WHERE  (date>='2012-01-01' AND date<'2022-03-01') AND store_name LIKE '%Hy-Vee%'\n",
    "ORDER BY rand()\n",
    "LIMIT 500000\n",
    "  \"\"\"\n",
    "#Run the query and write result to a pandas data frame\n",
    "Query_Results = bigquery_client.query(QUERY)\n",
    "df = Query_Results.to_dataframe()\n",
    "#View top few rows of result\n",
    "df.head()"
   ]
  },
  {
   "cell_type": "code",
   "execution_count": null,
   "id": "04d4b3d9",
   "metadata": {},
   "outputs": [],
   "source": [
    "df.shape"
   ]
  },
  {
   "cell_type": "code",
   "execution_count": null,
   "id": "ac81187e",
   "metadata": {},
   "outputs": [],
   "source": [
    "df.isna().sum().plot.bar(); "
   ]
  },
  {
   "cell_type": "code",
   "execution_count": null,
   "id": "8f3e98b7",
   "metadata": {},
   "outputs": [],
   "source": [
    "#the dataframe is large enough that we can ignore null values and still have plenty of useful data to analyze\n",
    "df.dropna(inplace=True)\n",
    "df.drop_duplicates()"
   ]
  },
  {
   "cell_type": "code",
   "execution_count": null,
   "id": "91d33de6",
   "metadata": {
    "scrolled": false
   },
   "outputs": [],
   "source": [
    "#seeing how much the dataframe changes after dropping null values\n",
    "df.shape"
   ]
  },
  {
   "cell_type": "code",
   "execution_count": null,
   "id": "33c94ab0",
   "metadata": {},
   "outputs": [],
   "source": [
    "df.info(memory_usage=\"deep\")"
   ]
  },
  {
   "cell_type": "code",
   "execution_count": null,
   "id": "07d4ae1d",
   "metadata": {},
   "outputs": [],
   "source": [
    "#trying to decrease the storage usage of the datset\n",
    "\n",
    "#decreasing integer storage\n",
    "df['bottle_volume_ml'] = df['bottle_volume_ml'].astype('int32')\n",
    "df['pack'] = df['pack'].astype('int32')\n",
    "df['bottles_sold'] = df['bottles_sold'].astype('int32')\n",
    "\n",
    "#decreasing float memory usage\n",
    "df['state_bottle_cost'] = df['state_bottle_cost'].astype('float32')\n",
    "df['state_bottle_retail'] = df['state_bottle_retail'].astype('float32')\n",
    "df['sale_dollars'] = df['sale_dollars'].astype('float32')\n",
    "df['volume_sold_liters'] = df['volume_sold_liters'].astype('float32')"
   ]
  },
  {
   "cell_type": "code",
   "execution_count": null,
   "id": "7edd90c7",
   "metadata": {},
   "outputs": [],
   "source": [
    "df.info(memory_usage=\"deep\")"
   ]
  },
  {
   "cell_type": "code",
   "execution_count": null,
   "id": "5487e6a8",
   "metadata": {
    "scrolled": true
   },
   "outputs": [],
   "source": [
    "df['Profit_per_bottle']=df['state_bottle_retail']-df['state_bottle_cost']\n",
    "df['Profit_per_sale']=df['Profit_per_bottle']*df['bottles_sold']\n",
    "df.head(20)"
   ]
  },
  {
   "cell_type": "code",
   "execution_count": null,
   "id": "48f0e349",
   "metadata": {},
   "outputs": [],
   "source": [
    "#getting an idea of the average profit per bottle\n",
    "print('mean:',df['Profit_per_bottle'].mean())\n",
    "\n",
    "#getting an idea of median profit since a few expensive/profitable bottles can skew mean\n",
    "print('median:',df['Profit_per_bottle'].median())\n",
    "\n",
    "#finding the max profit per bottle\n",
    "df.loc[df['Profit_per_bottle'] == df['Profit_per_bottle'].max()] "
   ]
  },
  {
   "cell_type": "code",
   "execution_count": null,
   "id": "1b74472a",
   "metadata": {},
   "outputs": [],
   "source": [
    "#seeing the distribution of profit per bottle\n",
    "df.hist(column='Profit_per_bottle', bins=100, grid=False, figsize=(12,8),range=[0, 50])"
   ]
  },
  {
   "cell_type": "code",
   "execution_count": null,
   "id": "69db3eac",
   "metadata": {
    "scrolled": true
   },
   "outputs": [],
   "source": [
    "df['category_name'].nunique()"
   ]
  },
  {
   "cell_type": "code",
   "execution_count": null,
   "id": "f2157c81",
   "metadata": {},
   "outputs": [],
   "source": [
    "#turning the store names to lowercase to prevent discrepancies\n",
    "df['store_name'] = df['store_name'].str.lower()\n",
    "\n",
    "df['category_name'] = df['category_name'].str.lower()\n",
    "\n",
    "#turning the county names to lowercase to prevent discrepancies\n",
    "df['county'] = df['county'].str.lower()\n",
    "\n",
    "df['city'] = df['city'].str.lower()\n",
    "\n",
    "df['vendor_name'] = df['vendor_name'].str.lower()"
   ]
  },
  {
   "cell_type": "code",
   "execution_count": null,
   "id": "45d7473c",
   "metadata": {},
   "outputs": [],
   "source": [
    "#defining a function to create a column of the different store types for hy-vee\n",
    "def store(b):\n",
    "    if ('quick' in b) or ('kwik' in b) or ('conven' in b) or ('fresh' in b) or ('c-store' in b):\n",
    "        return 'Convenience'\n",
    "    elif ('gas' in b) or ('petro' in b) or ('fuel' in b):\n",
    "        return 'Gas'\n",
    "    elif ('liquor' in b) or ('spirits' in b) or ('beverage' in b) or ('bottle' in b) or ('distil' in b) or ('wine' in b):\n",
    "        return 'Liquor Store'\n",
    "    elif ('drug' in b) or ('pharmacy' in b):\n",
    "        return 'Drug Store'\n",
    "    else:\n",
    "        return 'Supermarket'\n",
    "\n",
    "df['Store Type'] = df.store_name.apply(lambda y: store(y))"
   ]
  },
  {
   "cell_type": "code",
   "execution_count": null,
   "id": "dc9a9983",
   "metadata": {},
   "outputs": [],
   "source": [
    "df['Store Type'].value_counts()"
   ]
  },
  {
   "cell_type": "code",
   "execution_count": null,
   "id": "20df2451",
   "metadata": {},
   "outputs": [],
   "source": [
    "#making a function to classify the different liquor types into a column\n",
    "\n",
    "def func(a):\n",
    "    if \"vodka\" in a:\n",
    "        return \"vodka\"\n",
    "    elif \"tequila\" in a:\n",
    "        return \"tequila\"\n",
    "    elif \"rum\" in a:\n",
    "        return \"rum\"\n",
    "    elif \"gin\" in a:\n",
    "        return \"gin\"\n",
    "    elif \"wine\" in a:\n",
    "        return \"wine\"\n",
    "    elif \"beer\" in a:\n",
    "        return \"beer\"\n",
    "    elif \"wine\" in a:\n",
    "        return \"wine\"\n",
    "    elif \"brand\" in a:\n",
    "        return \"brandy\"\n",
    "    elif ('liqueur' in a) or (\"triple\" in a):\n",
    "        return 'liqueurs'\n",
    "    elif \"schnap\" in a:\n",
    "        return \"schnapps\"\n",
    "    elif ('grain spirits' in a):\n",
    "        return 'moonshine'\n",
    "    elif ('mezcal' in a):\n",
    "        return 'mezcal'\n",
    "    elif ('cocktail' in a):\n",
    "        return 'cocktail mix'\n",
    "    elif 'special' in a:\n",
    "        return \"gifts\"\n",
    "    elif \"whisk\" in a or \"bourbon\" in a or \"scotch\" in a:\n",
    "        return \"whisky\"\n",
    "    else:\n",
    "        return \"Other\"\n",
    "\n",
    "df[\"LiquorType\"] = df.category_name.apply(lambda x: func(x))"
   ]
  },
  {
   "cell_type": "code",
   "execution_count": null,
   "id": "687ccb2c",
   "metadata": {
    "scrolled": true
   },
   "outputs": [],
   "source": [
    "df['LiquorType'].value_counts()"
   ]
  },
  {
   "cell_type": "code",
   "execution_count": null,
   "id": "8a04af29",
   "metadata": {},
   "outputs": [],
   "source": [
    "#turing the column to str so we can make this function\n",
    "df.bottle_volume_ml = df.bottle_volume_ml.astype(str)"
   ]
  },
  {
   "cell_type": "code",
   "execution_count": null,
   "id": "4107c0b6",
   "metadata": {},
   "outputs": [],
   "source": [
    "#making a function to convert bottle volume into categories\n",
    "def bottle(c):\n",
    "    if \"750\" in c:\n",
    "        return \"750\"\n",
    "    elif \"1750\" in c:\n",
    "        return \"1750\"\n",
    "    elif \"375\" in c:\n",
    "        return \"375\"\n",
    "    elif \"50\" in c:\n",
    "        return \"c\"\n",
    "    elif \"1000\" in c:\n",
    "        return \"1000\"\n",
    "    elif \"200\" in c:\n",
    "        return \"200\"\n",
    "    elif \"100\" in c:\n",
    "        return \"100\"\n",
    "    else:\n",
    "        return \"Other\"\n",
    "\n",
    "df['Bottle Size'] = df.bottle_volume_ml.apply(lambda y: bottle(y))"
   ]
  },
  {
   "cell_type": "code",
   "execution_count": null,
   "id": "e066ab76",
   "metadata": {},
   "outputs": [],
   "source": [
    "#dropping original column since its now repetitive\n",
    "df = df.drop('bottle_volume_ml', 1)"
   ]
  },
  {
   "cell_type": "code",
   "execution_count": null,
   "id": "ba7f0fbf",
   "metadata": {},
   "outputs": [],
   "source": [
    "df.head()"
   ]
  },
  {
   "cell_type": "markdown",
   "id": "a6239945",
   "metadata": {},
   "source": [
    "# Looking at the type of store generating the most profits"
   ]
  },
  {
   "cell_type": "code",
   "execution_count": null,
   "id": "cca08e4e",
   "metadata": {},
   "outputs": [],
   "source": [
    "total_sale_store = df.groupby('Store Type').agg({'Profit_per_sale':'sum'}).reset_index().sort_values('Profit_per_sale',ascending =False)\n",
    "tts = total_sale_store.head(50)\n",
    "tts"
   ]
  },
  {
   "cell_type": "code",
   "execution_count": null,
   "id": "049a9ca0",
   "metadata": {},
   "outputs": [],
   "source": [
    "#profits generated by store type\n",
    "a1 = (10, 10)\n",
    "fig, ax = plt.subplots(figsize=a1)\n",
    "plot= sns.barplot(x=\"Store Type\", y=\"Profit_per_sale\", data=tts,palette =\"deep\")\n",
    "plot.set_xticklabels(ax.get_xticklabels(),rotation=90)\n",
    "plot.set_title('Best Store Type by Profits')\n",
    "ax.set_ylabel('Profits (Dollars)')\n",
    "ax.set_xlabel('Store Type')"
   ]
  },
  {
   "cell_type": "markdown",
   "id": "81303574",
   "metadata": {},
   "source": [
    "# Which liquor type are most profitable overall "
   ]
  },
  {
   "cell_type": "code",
   "execution_count": null,
   "id": "55f4c03a",
   "metadata": {},
   "outputs": [],
   "source": [
    "total_sale_liquor = df.groupby('LiquorType').agg({'Profit_per_sale':'sum'}).reset_index().sort_values('Profit_per_sale',ascending =False)\n",
    "ttb = total_sale_liquor.head(10)\n",
    "ttb"
   ]
  },
  {
   "cell_type": "code",
   "execution_count": null,
   "id": "7a7ae75a",
   "metadata": {
    "scrolled": true
   },
   "outputs": [],
   "source": [
    "#total profits generated by each liquor type\n",
    "fig, ax = plt.subplots(figsize=(10,10))\n",
    "plot= sns.barplot(x=\"LiquorType\", y=\"Profit_per_sale\", data=ttb,palette =\"deep\")\n",
    "plot.set_xticklabels(ax.get_xticklabels(),rotation=50)\n",
    "plot.set_title('Most Profitable Liquor Types ')\n",
    "ax.set_ylabel('Profit (Dollars)')\n",
    "ax.set_xlabel('Liquor Type')"
   ]
  },
  {
   "cell_type": "code",
   "execution_count": null,
   "id": "b45da9ed",
   "metadata": {},
   "outputs": [],
   "source": [
    "# Draw Plots comparing the how much the state buys each liquor for, and how much they sell it for\n",
    "# fig, axes = plt.subplots(1, 2, figsize=(20,7),sharey=True, sharex=True) #, dpi= 80, ylim=(0,80))\n",
    "plt.ylim(0,80)\n",
    "plt.xticks(rotation=45)\n",
    "sns.boxplot(x='LiquorType', y='state_bottle_cost', data=df)"
   ]
  },
  {
   "cell_type": "code",
   "execution_count": null,
   "id": "fbdece41",
   "metadata": {},
   "outputs": [],
   "source": [
    "sns.boxplot(x='LiquorType', y='state_bottle_retail', data=df)\n",
    "plt.ylim(0,80)\n",
    "plt.xticks(rotation=45)"
   ]
  },
  {
   "cell_type": "code",
   "execution_count": null,
   "id": "f08da85c",
   "metadata": {
    "scrolled": true
   },
   "outputs": [],
   "source": [
    "sns.boxplot(x='LiquorType', y='Profit_per_bottle', data=df)\n",
    "plt.ylim(0,50)\n",
    "plt.xticks(rotation=45)"
   ]
  },
  {
   "cell_type": "code",
   "execution_count": null,
   "id": "7f79dce4",
   "metadata": {},
   "outputs": [],
   "source": [
    "#boxplot of avg profit per sale based on liquor type\n",
    "sns.boxplot(x='LiquorType', y='Profit_per_sale', data=df)\n",
    "plt.ylim(0,300)\n",
    "plt.xticks(rotation=45)"
   ]
  },
  {
   "cell_type": "code",
   "execution_count": null,
   "id": "47bad1b2",
   "metadata": {
    "scrolled": true
   },
   "outputs": [],
   "source": [
    "# Draw Plot of profits per sale by store type\n",
    "\n",
    "plt.xticks(rotation=45)\n",
    "sns.boxplot(x='Store Type', y='Profit_per_sale', data=df, linewidth=1.5)\n",
    "plt.ylim(0,200)\n"
   ]
  },
  {
   "cell_type": "code",
   "execution_count": null,
   "id": "68ed4c1f",
   "metadata": {},
   "outputs": [],
   "source": [
    "supermarket=df[df['Store Type']=='Supermarket']\n",
    "supermarket.head()"
   ]
  },
  {
   "cell_type": "code",
   "execution_count": null,
   "id": "6c1ec95c",
   "metadata": {},
   "outputs": [],
   "source": [
    "#plotting liquor sales for supermarkets\n",
    "plt.xticks(rotation=45)\n",
    "sns.barplot(x='LiquorType', y='sale_dollars', data=supermarket, linewidth=1.5)\n",
    "plt.ylim(0,250)\n",
    "plt.title(\"Supermarket Sales ($)\")\n",
    "sns.set_style(\"white\")"
   ]
  },
  {
   "cell_type": "code",
   "execution_count": null,
   "id": "e45f0321",
   "metadata": {},
   "outputs": [],
   "source": [
    "liquorst=df[df['Store Type']=='Liquor Store']"
   ]
  },
  {
   "cell_type": "code",
   "execution_count": null,
   "id": "bd619663",
   "metadata": {},
   "outputs": [],
   "source": [
    "#plotting liquor store sales by liquor type\n",
    "plt.xticks(rotation=45)\n",
    "sns.barplot(x='LiquorType', y='sale_dollars', data=liquorst)\n",
    "plt.ylim(0,300)\n",
    "plt.title('Liquor Store Sales ($)')\n"
   ]
  },
  {
   "cell_type": "code",
   "execution_count": null,
   "id": "499486ee",
   "metadata": {},
   "outputs": [],
   "source": [
    "gas=df[df['Store Type']=='Gas']"
   ]
  },
  {
   "cell_type": "code",
   "execution_count": null,
   "id": "c800bcd7",
   "metadata": {
    "scrolled": true
   },
   "outputs": [],
   "source": [
    "#plotting gas station sales by liquor type\n",
    "plt.xticks(rotation=45)\n",
    "sns.barplot(x='LiquorType', y='sale_dollars', data=gas)\n",
    "plt.ylim(0,150)\n",
    "plt.title('Gas Station Sales ($)')"
   ]
  },
  {
   "cell_type": "code",
   "execution_count": null,
   "id": "d7d4fe4d",
   "metadata": {},
   "outputs": [],
   "source": [
    "#comparing store type for all categories\n",
    "desm=df[df['city']=='des moines']\n",
    "desm=desm.groupby('Store Type').sum()\n",
    "desm"
   ]
  },
  {
   "cell_type": "code",
   "execution_count": null,
   "id": "8f01b1a8",
   "metadata": {},
   "outputs": [],
   "source": [
    "plt.xticks(rotation=45)\n",
    "sns.barplot(x='Store Type', y='sale_dollars', data=des)\n",
    "plt.ylim(0,150)\n",
    "plt.title('Sales ($) By Store Type in Des Moines')"
   ]
  },
  {
   "cell_type": "markdown",
   "id": "5275a6c3",
   "metadata": {},
   "source": [
    "# Exploring which categories of alcohol are more profitable on average"
   ]
  },
  {
   "cell_type": "code",
   "execution_count": null,
   "id": "74766b05",
   "metadata": {},
   "outputs": [],
   "source": [
    "best10 = df.groupby(['category_name'])['Profit_per_bottle'].mean().groupby(['category_name']).max().sort_values().groupby(['category_name']).sum().sort_values(ascending=False).reset_index()\n",
    "\n",
    "best10_plot = px.bar(best10.head(10),x=best10['category_name'].head(10), y='Profit_per_bottle',color='Profit_per_bottle')\n",
    "best10_plot.update_layout(\n",
    "    title=\"10 Best Average Profit per Bottle Liquor Categories\",\n",
    "    xaxis_title=\"Category Name\",\n",
    "    yaxis_title=\"Average Profit per Bottle($)\")\n",
    "best10_plot.show()"
   ]
  },
  {
   "cell_type": "markdown",
   "id": "6603e5ad",
   "metadata": {},
   "source": [
    "# Exploring which categories of alcohol are least profitable"
   ]
  },
  {
   "cell_type": "code",
   "execution_count": null,
   "id": "304aa052",
   "metadata": {
    "scrolled": true
   },
   "outputs": [],
   "source": [
    "low10_plot = px.bar(best10.tail(10),x=best10['category_name'].tail(10), y='Profit_per_bottle',color='Profit_per_bottle')\n",
    "low10_plot.update_layout(\n",
    "    title=\"10 Lowest Profit Liquor Categories\",\n",
    "    xaxis_title=\"Category Name\",\n",
    "    yaxis_title=\"Average Profit per Bottle($)\")\n",
    "low10_plot.show()"
   ]
  },
  {
   "cell_type": "markdown",
   "id": "9c135351",
   "metadata": {},
   "source": [
    "# Exploring which counties have the highest profits overall "
   ]
  },
  {
   "cell_type": "code",
   "execution_count": null,
   "id": "57528006",
   "metadata": {},
   "outputs": [],
   "source": [
    "bestcounty = df.groupby(['county'])['Profit_per_sale'].sum().groupby(['county']).max().sort_values().groupby(['county']).sum().sort_values(ascending=False).reset_index()\n",
    "\n",
    "bestcounty_plot = px.bar(bestcounty.head(10),x=bestcounty['county'].head(10), y='Profit_per_sale',color='Profit_per_sale')\n",
    "bestcounty_plot.update_layout(\n",
    "    title=\"10 Best County Profit Liquor\",\n",
    "    xaxis_title=\"county\",\n",
    "    yaxis_title=\"Total Profits ($)\")\n",
    "bestcounty_plot.show()"
   ]
  },
  {
   "cell_type": "markdown",
   "id": "3a32fbbb",
   "metadata": {},
   "source": [
    "# Comparing sales profits by city"
   ]
  },
  {
   "cell_type": "code",
   "execution_count": null,
   "id": "5cdc09f5",
   "metadata": {
    "scrolled": true
   },
   "outputs": [],
   "source": [
    "bestcity = df.groupby(['city'])['Profit_per_sale'].sum().groupby(['city']).max().sort_values().groupby(['city']).sum().sort_values(ascending=False).reset_index()\n",
    "\n",
    "bestcity_plot = px.bar(bestcity.head(10),x=bestcity['city'].head(10), y='Profit_per_sale',color='Profit_per_sale')\n",
    "bestcity_plot.update_layout(\n",
    "    title=\"10 Best Cities for Profit Liquor Categories\",\n",
    "    xaxis_title=\"City\",\n",
    "    yaxis_title=\"Total Profits ($)\")\n",
    "bestcity_plot.show()"
   ]
  },
  {
   "cell_type": "markdown",
   "id": "ced654ab",
   "metadata": {},
   "source": [
    "# Finding Total Bottles Sold in each City"
   ]
  },
  {
   "cell_type": "code",
   "execution_count": null,
   "id": "31255cbf",
   "metadata": {
    "scrolled": true
   },
   "outputs": [],
   "source": [
    "bottlecity = df.groupby(['city'])['bottles_sold'].sum().groupby(['city']).max().sort_values().groupby(['city']).sum().sort_values(ascending=False).reset_index()\n",
    "\n",
    "bottlecity_plot = px.bar(bottlecity.head(10),x=bottlecity['city'].head(10), y='bottles_sold',color='bottles_sold')\n",
    "bottlecity_plot.update_layout(\n",
    "    title=\"10 Highest Bottles Sold by City\",\n",
    "    xaxis_title=\"City\",\n",
    "    yaxis_title=\"Total Bottles Sold\")\n",
    "bottlecity_plot.show()"
   ]
  },
  {
   "cell_type": "markdown",
   "id": "5e6945da",
   "metadata": {},
   "source": [
    "# Comparing Vendors with the Highest Profits"
   ]
  },
  {
   "cell_type": "code",
   "execution_count": null,
   "id": "4a3b8038",
   "metadata": {},
   "outputs": [],
   "source": [
    "bestvendors = df.groupby(['vendor_name'])['Profit_per_sale'].sum().groupby(['vendor_name']).max().sort_values().groupby(['vendor_name']).sum().sort_values(ascending=False).reset_index()\n",
    "\n",
    "bestvendors_plot = px.bar(bestvendors.head(10),x=bestvendors['vendor_name'].head(10), y='Profit_per_sale',color='Profit_per_sale')\n",
    "bestvendors_plot.update_layout(\n",
    "    title=\"10 Best Vendors for Profit Liquor Categories\",\n",
    "    xaxis_title=\"Vendor\",\n",
    "    yaxis_title=\"Total Profits ($)\")\n",
    "bestvendors_plot.show()"
   ]
  },
  {
   "cell_type": "code",
   "execution_count": null,
   "id": "518cd7bc",
   "metadata": {
    "scrolled": false
   },
   "outputs": [],
   "source": [
    "#finding number of purchases by storetype in each city\n",
    "df.groupby(['city'])['Store Type'].value_counts()"
   ]
  },
  {
   "cell_type": "code",
   "execution_count": null,
   "id": "1472e260",
   "metadata": {},
   "outputs": [],
   "source": [
    "#finding the most commonly purchased category\n",
    "df['category_name'].mode()"
   ]
  },
  {
   "cell_type": "code",
   "execution_count": null,
   "id": "7bb37ca4",
   "metadata": {},
   "outputs": [],
   "source": [
    "#finding the most common vendor in the dataset\n",
    "df['vendor_name'].mode()"
   ]
  },
  {
   "cell_type": "markdown",
   "id": "194fc1f2",
   "metadata": {},
   "source": [
    "# Looking at the sales for each store location"
   ]
  },
  {
   "cell_type": "code",
   "execution_count": null,
   "id": "ef692427",
   "metadata": {},
   "outputs": [],
   "source": [
    "store_sales= df.groupby('store_name').sale_dollars.sum().groupby(['store_name']).max().sort_values().groupby(['store_name']).sum().sort_values(ascending=False).reset_index()\n",
    "store_sales_plot = px.bar(store_sales.head(10),x=store_sales['store_name'].head(10), y='sale_dollars',color='sale_dollars')\n",
    "store_sales_plot.update_layout(\n",
    "    title=\"10 Highest Sales Stores\",\n",
    "    xaxis_title=\"Store Number\",\n",
    "    yaxis_title=\"Total Sales($)\")\n",
    "store_sales_plot.show()"
   ]
  },
  {
   "cell_type": "markdown",
   "id": "bf5e8e75",
   "metadata": {},
   "source": [
    "# Checking if the stores with the highest sales also have the highest profits"
   ]
  },
  {
   "cell_type": "code",
   "execution_count": null,
   "id": "b27aa2ab",
   "metadata": {
    "scrolled": true
   },
   "outputs": [],
   "source": [
    "store_profit= df.groupby('store_name').Profit_per_sale.sum().groupby(['store_name']).max().sort_values().groupby(['store_name']).sum().sort_values(ascending=False).reset_index()\n",
    "store_profit_plot = px.bar(store_profit.head(10),x=store_profit['store_name'].head(10), y='Profit_per_sale',color='Profit_per_sale')\n",
    "store_profit_plot.update_layout(\n",
    "    title=\"10 Highest Profit Stores\",\n",
    "    xaxis_title=\"Store Name\",\n",
    "    yaxis_title=\"Total Profits($)\")\n",
    "store_profit_plot.show()"
   ]
  },
  {
   "cell_type": "markdown",
   "id": "cdf68fd9",
   "metadata": {},
   "source": [
    "# Looking at monthly profits for liquor types"
   ]
  },
  {
   "cell_type": "markdown",
   "id": "39b19347",
   "metadata": {},
   "source": [
    "# Creating a Heatmap of the locations of the liquor stores in Iowa"
   ]
  },
  {
   "cell_type": "code",
   "execution_count": null,
   "id": "723e8910",
   "metadata": {},
   "outputs": [],
   "source": [
    "#Changing the column type to string so we can strip leading POINT\n",
    "df['store_location'] = df.store_location.astype(str)\n",
    "\n",
    "#stripping the non-latitude-longitude values from the column\n",
    "df['store_location'] = df['store_location'].map(lambda x: x.lstrip('POINT (').rstrip(')'))\n",
    "\n",
    "#creating latitude and longitude columns to use for our heatmap\n",
    "df[['Longitude','Latitude']] = df['store_location'].str.split(' ', expand=True)\n"
   ]
  },
  {
   "cell_type": "code",
   "execution_count": null,
   "id": "f0277cc8",
   "metadata": {
    "scrolled": true
   },
   "outputs": [],
   "source": [
    "#folium requires the data to be float type\n",
    "\n",
    "df['Latitude'] = df['Latitude'].str.replace(' ', '').astype(float)\n",
    "df['Longitude'] = df['Longitude'].str.replace(' ', '').astype(float)\n",
    "\n",
    "#dropping the original store location column since now it is repetitive\n",
    "df = df.drop('store_location', 1)"
   ]
  },
  {
   "cell_type": "code",
   "execution_count": null,
   "id": "4e5b4f60",
   "metadata": {},
   "outputs": [],
   "source": [
    "df.head()"
   ]
  },
  {
   "cell_type": "code",
   "execution_count": null,
   "id": "b72f2b5c",
   "metadata": {},
   "outputs": [],
   "source": [
    "import folium\n",
    "from IPython.display import display\n",
    "\n",
    "mymap= folium.Map(location=[43.088341,-93.990256], zoom_start=8, )\n",
    "\n",
    "hm_wide = HeatMap(\n",
    "    list(zip(df.Latitude.values, df.Longitude.values)),\n",
    "    min_opacity=0.3,\n",
    "    radius=10, \n",
    "    blur=9, \n",
    "    max_zoom=1,\n",
    ")\n",
    "mymap.add_child(hm_wide)\n",
    "#mymap.add_child(folium.ClickForMarker(popup='Potential Location'))"
   ]
  },
  {
   "cell_type": "code",
   "execution_count": null,
   "id": "32660756",
   "metadata": {},
   "outputs": [],
   "source": [
    "# university of iowa=41.6627, 91.5550\n",
    "# iowa state= 42.0267, 93.6465\n",
    "# univerisity northern iowa=42.5122, 92.4646\n",
    "# kirkwood comminuty collegee=41.9110, 91.6522\n",
    "# drake university= 41.6031, 93.6546\n",
    "\n",
    "# # dictionary with list object in values\n",
    "# details = {\n",
    "#     'School' : ['university of iowa', 'iowa state', 'univerisity northern iowa', 'kirkwood community college','drake university'],\n",
    "#     'lat' : [41.6627, 42.0267, 42.5122, 41.9110,41.6031],\n",
    "#     'lon' : [91.5550, 93.6465,92.4646, 91.6522,93.6546],\n",
    "# }\n",
    "  \n",
    "# # creating a Dataframe object \n",
    "# college = pd.DataFrame(details)\n",
    "# college\n",
    "\n",
    "# # add marker one by one on the map\n",
    "# for i in range(0,len(college)):\n",
    "#    folium.Marker(\n",
    "#       location=[college.iloc[i]['lat'], college.iloc[i]['lon']],\n",
    "#       popup=college.iloc[i]['School'],\n",
    "#    ).add_to(mymap)\n",
    "\n",
    "# # Show the map again\n",
    "# mymap\n",
    "\n",
    " "
   ]
  },
  {
   "cell_type": "markdown",
   "id": "94b55148",
   "metadata": {},
   "source": [
    "# Looking at time related data "
   ]
  },
  {
   "cell_type": "code",
   "execution_count": null,
   "id": "4b8c19ec",
   "metadata": {},
   "outputs": [],
   "source": [
    "#making a new dataframe I can make changes to\n",
    "timedf=df\n",
    "#converting date column to datetime\n",
    "timedf['date'] = pd.to_datetime(timedf['date'])\n",
    "timedf['day_name'] = timedf['date'].dt.day_name()\n",
    "timedf['year']=timedf['date'].dt.year"
   ]
  },
  {
   "cell_type": "code",
   "execution_count": null,
   "id": "a7e09cb3",
   "metadata": {},
   "outputs": [],
   "source": [
    "from collections import defaultdict, OrderedDict\n",
    "\n",
    "data = defaultdict(list)\n",
    "for r in timedf.itertuples():\n",
    "    data[r.year].append([r.Latitude, r.Longitude])\n",
    "    \n",
    "data = OrderedDict(sorted(data.items(), key=lambda t: t[0]))"
   ]
  },
  {
   "cell_type": "code",
   "execution_count": null,
   "id": "6c468879",
   "metadata": {},
   "outputs": [],
   "source": [
    "import folium\n",
    "from IPython.display import display\n",
    "from folium.plugins import HeatMapWithTime\n",
    "\n",
    "m = folium.Map([43.088341,-93.990256],\n",
    "               tiles='stamentoner',\n",
    "               zoom_start=7)\n",
    "\n",
    "\n",
    "hm = HeatMapWithTime(data=list(data.values()),\n",
    "                     index=list(data.keys()), \n",
    "                     radius=10,\n",
    "                     auto_play=True,\n",
    "                     min_opacity=0.3)\n",
    "hm.add_to(m)\n",
    "#m.save(outfile= \"hyve.html\")\n",
    "m"
   ]
  },
  {
   "cell_type": "code",
   "execution_count": null,
   "id": "5d5accfe",
   "metadata": {
    "scrolled": true
   },
   "outputs": [],
   "source": [
    "import folium\n",
    "from IPython.display import display\n",
    "from folium.plugins import HeatMapWithTime\n",
    "\n",
    "m = folium.Map([43.088341,-93.990256],\n",
    "               tiles='openstreetmap',\n",
    "               zoom_start=7)\n",
    "\n",
    "\n",
    "hm = HeatMapWithTime(data=list(data.values()),\n",
    "                     index=list(data.keys()), \n",
    "                     radius=10,\n",
    "                     auto_play=True,\n",
    "                     min_opacity=0.3)\n",
    "hm.add_to(m)\n",
    "#m.save(outfile= \"timemap.html\")\n",
    "m"
   ]
  },
  {
   "cell_type": "code",
   "execution_count": null,
   "id": "551fd493",
   "metadata": {},
   "outputs": [],
   "source": [
    "timedf.head()"
   ]
  },
  {
   "cell_type": "code",
   "execution_count": null,
   "id": "67ef3be9",
   "metadata": {
    "scrolled": true
   },
   "outputs": [],
   "source": [
    "#finding the total sales profits each day\n",
    "#dailyprofits = timedf.groupby([timedf.date.dt.dayofyear])['Profit_per_sale'].sum().reset_index()\n",
    "dailyprofits = timedf.groupby(['date'])['Profit_per_sale'].sum().reset_index()\n",
    "\n",
    "#rename sum of profit per sale to profit per day\n",
    "dailyprofits.rename({'Profit_per_sale': 'Profit_per_day'}, axis=1, inplace=True)\n",
    "dailyprofits.head()"
   ]
  },
  {
   "cell_type": "code",
   "execution_count": null,
   "id": "6d61e8c1",
   "metadata": {},
   "outputs": [],
   "source": [
    "#finding which day had the highest profit sales\n",
    "print(\"Max profits:\", dailyprofits.loc[dailyprofits['Profit_per_day'] == dailyprofits['Profit_per_day'].max()])\n",
    "\n",
    "#finding the day with the lowest profit sales\n",
    "print(\"Min profits:\",dailyprofits.loc[dailyprofits['Profit_per_day'] == dailyprofits['Profit_per_day'].min()])"
   ]
  },
  {
   "cell_type": "code",
   "execution_count": null,
   "id": "f4609f01",
   "metadata": {
    "scrolled": true
   },
   "outputs": [],
   "source": [
    "# Draw Plot\n",
    "fig, axes = plt.subplots(1, 2, figsize=(20,7)) #, dpi= 80, ylim=(0,80))\n",
    "plt.ylim(0,1000)\n",
    "plt.xticks(rotation=45)\n",
    "sns.barplot(x='day_name', y='sale_dollars', data=timedf, ax=axes[0])\n",
    "sns.boxplot(x='year', y='volume_sold_liters', data=timedf)"
   ]
  },
  {
   "cell_type": "code",
   "execution_count": null,
   "id": "e707ff96",
   "metadata": {},
   "outputs": [],
   "source": [
    "y=dailyprofits['Profit_per_day']\n",
    "x=dailyprofits['date']\n",
    "plt.figure(figsize=(15,8))\n",
    "sns.lineplot(x,y)\n",
    "plt.title('Profit per Day')"
   ]
  },
  {
   "cell_type": "code",
   "execution_count": null,
   "id": "e79625b2",
   "metadata": {
    "scrolled": true
   },
   "outputs": [],
   "source": [
    "def plot_df(df, x, y, title=\"\", xlabel='Date', ylabel='Value', dpi=100):\n",
    "    plt.figure(figsize=(16,5), dpi=dpi)\n",
    "    plt.plot(x, y, color='tab:red')\n",
    "    plt.gca().set(title=title, xlabel=xlabel, ylabel=ylabel)\n",
    "    plt.show()\n",
    "\n",
    "plot_df(dailyprofits, x=dailyprofits.date, y=dailyprofits.Profit_per_day, title='Daily Profits 2014-2022 ')    "
   ]
  },
  {
   "cell_type": "markdown",
   "id": "c58241de",
   "metadata": {},
   "source": [
    "# Looking at bottles sold per day"
   ]
  },
  {
   "cell_type": "code",
   "execution_count": null,
   "id": "69a43a70",
   "metadata": {},
   "outputs": [],
   "source": [
    "#creating a dataframe of the total bottles sold per day\n",
    "dailybottles=timedf.groupby(['date'])['bottles_sold'].sum().reset_index()\n",
    "\n",
    "#dailysales = dailysales.set_index('date')\n",
    "\n",
    "#rename sum of profit per sale to profit per day\n",
    "dailybottles.rename({'bottles_sold': 'daily_bottles_sold'}, axis=1, inplace=True)\n",
    "\n",
    "#converting the date to datetime format\n",
    "#dailybottles['date']=pd.to_datetime(dailybottles['date'])\n",
    "dailybottles.head()"
   ]
  },
  {
   "cell_type": "code",
   "execution_count": null,
   "id": "c214b491",
   "metadata": {},
   "outputs": [],
   "source": [
    "#plotting the bottles sold per day\n",
    "y=dailybottles['daily_bottles_sold']\n",
    "x=dailybottles['date']\n",
    "plt.figure(figsize=(15,8))\n",
    "sns.lineplot(x,y)\n",
    "plt.title('Bottles Sold Per Day')"
   ]
  },
  {
   "cell_type": "code",
   "execution_count": null,
   "id": "4fb05c6c",
   "metadata": {},
   "outputs": [],
   "source": [
    "plt.figure(figsize=(15,8))\n",
    "sns.barplot(x,y)\n",
    "plt.title('Daily Bottles Sold')"
   ]
  },
  {
   "cell_type": "markdown",
   "id": "612fec5c",
   "metadata": {},
   "source": [
    "# Comparing weekly sales"
   ]
  },
  {
   "cell_type": "code",
   "execution_count": null,
   "id": "a55dd01f",
   "metadata": {},
   "outputs": [],
   "source": [
    "#making a new df to experiment with without ruining original\n",
    "df2=df\n",
    "\n",
    "#converting date column to datetime\n",
    "df2['date'] = pd.to_datetime(df2['date'])"
   ]
  },
  {
   "cell_type": "code",
   "execution_count": null,
   "id": "b7c323df",
   "metadata": {},
   "outputs": [],
   "source": [
    "#finding the amount of bottles of liquor sold each week\n",
    "weekly = df2.groupby(df2.date.dt.weekofyear)['bottles_sold'].agg('sum').reset_index()\n",
    "\n",
    "#rename sum of bottles sold to weekly bottles sold\n",
    "weekly.rename({'bottles_sold': 'weekly_bottles_sold'}, axis=1, inplace=True)\n",
    "\n",
    "#plotting \n",
    "x1=weekly['date']\n",
    "y1=weekly['weekly_bottles_sold']\n",
    "plt.figure(figsize=(10,8))\n",
    "sns.barplot(x1,y1)\n",
    "plt.title('Bottles Sold Each Week')"
   ]
  },
  {
   "cell_type": "code",
   "execution_count": null,
   "id": "6ce5d22d",
   "metadata": {},
   "outputs": [],
   "source": [
    "#lineplot of the weekly bottle sales\n",
    "plt.figure(figsize=(10,8))\n",
    "sns.lineplot(x1,y1)"
   ]
  },
  {
   "cell_type": "code",
   "execution_count": null,
   "id": "e4cd8781",
   "metadata": {},
   "outputs": [],
   "source": [
    "#finding the profit each week\n",
    "weekly = df2.groupby(df2.date.dt.weekofyear)['Profit_per_sale'].agg('sum').reset_index()\n",
    "\n",
    "\n",
    "#rename sum of bottles sold to weekly bottles sold\n",
    "weekly.rename({'Profit_per_sale': 'weekly_profit'}, axis=1, inplace=True)\n",
    "\n",
    "#plotting the profits by week\n",
    "xw=weekly['date']\n",
    "yw=weekly['weekly_profit']\n",
    "plt.figure(figsize=(10,8))\n",
    "sns.barplot(xw,yw)\n",
    "plt.title('Weekly Profit Each Week')"
   ]
  },
  {
   "cell_type": "code",
   "execution_count": null,
   "id": "0f58d30d",
   "metadata": {
    "scrolled": true
   },
   "outputs": [],
   "source": [
    "plt.figure(figsize=(10,8))\n",
    "sns.lineplot(xw,yw)"
   ]
  },
  {
   "cell_type": "code",
   "execution_count": null,
   "id": "461a64e1",
   "metadata": {},
   "outputs": [],
   "source": [
    "y = df.groupby('date')['Profit_per_sale'].sum().resample('MS').mean()\n",
    "y.plot()"
   ]
  },
  {
   "cell_type": "markdown",
   "id": "c50d5afa",
   "metadata": {},
   "source": [
    "# Looking at months overall for seasonal patterns"
   ]
  },
  {
   "cell_type": "code",
   "execution_count": null,
   "id": "210c3bed",
   "metadata": {},
   "outputs": [],
   "source": [
    "#finding the amount of bottles of liquor sold each month\n",
    "monthly = df2.groupby(df2.date.dt.month)['bottles_sold'].agg('sum').reset_index()\n",
    "\n",
    "#rename sum of bottles sold to monthly bottles sold\n",
    "monthly.rename({'bottles_sold': 'monthly_bottles_sold'}, axis=1, inplace=True)\n",
    "\n",
    "#plotting \n",
    "x1=monthly['date']\n",
    "y1=monthly['monthly_bottles_sold']\n",
    "plt.figure(figsize=(10,8))\n",
    "sns.lineplot(x1,y1)\n",
    "plt.title('Bottles Sold Each Month')"
   ]
  },
  {
   "cell_type": "markdown",
   "id": "a650e614",
   "metadata": {},
   "source": [
    "# Looking at months by year for overall trends"
   ]
  },
  {
   "cell_type": "code",
   "execution_count": null,
   "id": "a9dc7326",
   "metadata": {},
   "outputs": [],
   "source": [
    "timedf['year_month'] = timedf['date'].dt.strftime('%Y-%m')"
   ]
  },
  {
   "cell_type": "code",
   "execution_count": null,
   "id": "5f6fda38",
   "metadata": {},
   "outputs": [],
   "source": [
    "vodka = timedf[timedf['LiquorType'] == 'vodka'].groupby('year_month', as_index=False)['Profit_per_sale'].sum()\n",
    "#print(vodka)\n",
    "\n",
    "vodx=vodka['year_month']\n",
    "vody=vodka['Profit_per_sale']\n",
    "\n",
    "sns.lineplot(vodx,vody,data=vodka)\n",
    "#plt.axhline(vodka['Profit_per_sale'].mean(),color=\"k\",linestyle=\"dotted\",linewidth=2)\n",
    "\n",
    "plt.title('Vodka monthly sales') \n",
    "\n",
    "whisk = timedf[timedf['LiquorType'] == 'whisky'].groupby('year_month', as_index=False)['Profit_per_sale'].sum()\n",
    "whisky=whisk['Profit_per_sale']\n",
    "\n",
    "rum = timedf[timedf['LiquorType'] == 'rum'].groupby('year_month', as_index=False)['Profit_per_sale'].sum()\n",
    "rumy=rum['Profit_per_sale']\n",
    "\n",
    "liqueurs = timedf[timedf['LiquorType'] == 'liqueurs'].groupby('year_month', as_index=False)['Profit_per_sale'].sum()\n",
    "rumy=rum['Profit_per_sale']\n",
    "\n",
    "top4=[vody, whisky, rumy, liqueurs]\n",
    "headers = [\"Vodka\",\"Whiskies\",\"Rum\", \"Liqueurs\"]\n",
    "\n",
    "top4_sell = pd.concat(top4, axis=1, keys=headers)\n",
    "top4_sell.index = top4_sell.index +1\n",
    "\n",
    "import matplotlib.ticker as ticker\n",
    "\n",
    "ax = top4_sell.plot(linewidth=1,fontsize=8);\n",
    "ax.set_xlabel('Month and Year');\n",
    "ax.legend(fontsize=8)\n",
    "ax.xaxis.set_major_locator(ticker.MultipleLocator(20));"
   ]
  },
  {
   "cell_type": "code",
   "execution_count": null,
   "id": "dbda67d7",
   "metadata": {},
   "outputs": [],
   "source": [
    "#finding the amount of profit of liquor sold each month\n",
    "monthyr = timedf.groupby(timedf['year_month'])['Profit_per_sale'].agg('sum').reset_index()\n",
    "\n",
    "#rename sum of profit sold to monthly bottles sold\n",
    "monthyr.rename({'Profit_per_sale': 'monthyr_profit'}, axis=1, inplace=True)\n",
    "\n",
    "#plotting \n",
    "xm=monthyr['year_month']\n",
    "ym=monthyr['monthyr_profit']\n",
    "plt.figure(figsize=(15,8))\n",
    "sns.lineplot(xm,ym)\n",
    "plt.title('Profit Each Month')\n",
    "plt.xticks(rotation=90);\n",
    "#plt.autofmt_xdate()"
   ]
  },
  {
   "cell_type": "code",
   "execution_count": null,
   "id": "46308312",
   "metadata": {},
   "outputs": [],
   "source": [
    "#monthyr.set_index('year_month', inplace=True)\n",
    "monthyr['year_month']=pd.to_datetime(monthyr['year_month'])"
   ]
  },
  {
   "cell_type": "code",
   "execution_count": null,
   "id": "d4d7c1f1",
   "metadata": {},
   "outputs": [],
   "source": [
    "monthyr.set_index('year_month', inplace=True)"
   ]
  },
  {
   "cell_type": "code",
   "execution_count": null,
   "id": "d9d5e60a",
   "metadata": {},
   "outputs": [],
   "source": [
    "monthyr.plot()"
   ]
  },
  {
   "cell_type": "code",
   "execution_count": null,
   "id": "603ecfc8",
   "metadata": {},
   "outputs": [],
   "source": [
    "from statsmodels.tsa.stattools import adfuller, kpss"
   ]
  },
  {
   "cell_type": "code",
   "execution_count": null,
   "id": "e321c54d",
   "metadata": {},
   "outputs": [],
   "source": [
    "#can make a function to find adf value\n",
    "def adftest(series):\n",
    "    results=adfuller(series)\n",
    "    print(f'ADF Statistic: {results[0]}')\n",
    "    print(f'p-value: {results[1]}')\n",
    "    if results[1] <= 0.05:\n",
    "        print('strong evidence againstnull hypothesis. Data is stationary')\n",
    "    else:\n",
    "        print('weak evidence against null hypothesis. Data is NON stationary')\n",
    "        \n",
    "adftest(monthyr['monthyr_profit'])"
   ]
  },
  {
   "cell_type": "code",
   "execution_count": null,
   "id": "a8c41e6f",
   "metadata": {},
   "outputs": [],
   "source": [
    "#Detrending a time series is to remove the trend component from a time series\n",
    "\n",
    "# Using scipy: Subtract the line of best fit\n",
    "from scipy import signal\n",
    "detrended = signal.detrend(monthyr.monthyr_profit.values)\n",
    "plt.plot(detrended)\n",
    "plt.title('Liquor Sales detrended by subtracting the least squares fit', fontsize=16)\n"
   ]
  },
  {
   "cell_type": "code",
   "execution_count": null,
   "id": "0b7dbb31",
   "metadata": {},
   "outputs": [],
   "source": [
    "# when there is a strong seasonal pattern, the ACF plot usually reveals \n",
    "# definitive repeated spikes at the multiples of the seasonal window. \n",
    "\n",
    "from pandas.plotting import autocorrelation_plot\n",
    "plt.rcParams.update({'figure.figsize':(9,5), 'figure.dpi':120})\n",
    "autocorrelation_plot(monthyr.monthyr_profit.tolist())"
   ]
  },
  {
   "cell_type": "markdown",
   "id": "25716ab9",
   "metadata": {},
   "source": [
    "# #Differencing the Timeseries data"
   ]
  },
  {
   "cell_type": "code",
   "execution_count": null,
   "id": "5163450f",
   "metadata": {},
   "outputs": [],
   "source": [
    "#Viewing the data in each state of differencing with its autocorrelation plot\n",
    "# If a series is significantly autocorrelated, that means, the previous values of the series (lags) \n",
    "# may be helpful in predicting the current value. Partial Autocorrelation also conveys similar \n",
    "# information but it conveys the pure correlation of a series and its lag, excluding the correlation \n",
    "# contributions from the intermediate lags.\n",
    "\n",
    "\n",
    "from statsmodels.tsa.stattools import acf, pacf\n",
    "from statsmodels.graphics.tsaplots import plot_acf, plot_pacf\n",
    "\n",
    "\n",
    "# Original Series\n",
    "fig, axes = plt.subplots(3, 2, figsize=(20,10))\n",
    "axes[0, 0].plot(monthyr.monthyr_profit); axes[0, 0].set_title('Original Series')\n",
    "plot_acf(monthyr.monthyr_profit, ax=axes[0, 1], lags=52)\n",
    "\n",
    "# 1st Differencing\n",
    "axes[1, 0].plot(monthyr.monthyr_profit.diff()); axes[1, 0].set_title('1st Order Differencing')\n",
    "plot_acf(monthyr.monthyr_profit.diff().dropna(), ax=axes[1, 1], lags=52)\n",
    "\n",
    "# 2nd Differencing\n",
    "axes[2, 0].plot(monthyr.monthyr_profit.diff().diff()); axes[2, 0].set_title('2nd Order Differencing')\n",
    "plot_acf(monthyr.monthyr_profit.diff().diff().dropna(), ax=axes[2, 1], lags=52)\n",
    "\n",
    "\n",
    "plt.show()"
   ]
  },
  {
   "cell_type": "code",
   "execution_count": null,
   "id": "93521414",
   "metadata": {},
   "outputs": [],
   "source": [
    "#Testing if data is stationary after first difference= it is\n",
    "adftest(monthyr.monthyr_profit.diff().dropna())"
   ]
  },
  {
   "cell_type": "code",
   "execution_count": null,
   "id": "dc2bac5e",
   "metadata": {},
   "outputs": [],
   "source": [
    "# PACF plot of 1st differenced series\n",
    "fig, axes = plt.subplots(1, 2, figsize=(20,5))\n",
    "axes[0].plot(monthyr.monthyr_profit.diff()); axes[0].set_title('1st Differencing')\n",
    "plot_pacf(monthyr.monthyr_profit.diff().dropna(), ax=axes[1])\n",
    "\n",
    "plt.show()\n"
   ]
  },
  {
   "cell_type": "code",
   "execution_count": null,
   "id": "af0794af",
   "metadata": {},
   "outputs": [],
   "source": [
    "fig, axes = plt.subplots(1, 2, figsize=(20,5))\n",
    "axes[0].plot(monthyr.monthyr_profit.diff()); axes[0].set_title('1st Differencing')\n",
    "plot_acf(monthyr.monthyr_profit.diff().dropna(), ax=axes[1])\n",
    "plt.show()\n"
   ]
  },
  {
   "cell_type": "code",
   "execution_count": null,
   "id": "d212b6f2",
   "metadata": {},
   "outputs": [],
   "source": [
    "#p= 3 based on PACF, d=1 differencing once, q=1 from autocorrelation plot\n",
    "from statsmodels.tsa.arima.model import ARIMA\n",
    "\n",
    "model = ARIMA(monthyr.monthyr_profit,\n",
    "              order=(2,1,2))\n",
    "model_fit = model.fit()  #model_fit = model.fit(disp=0)\n",
    "print(model_fit.summary())\n"
   ]
  },
  {
   "cell_type": "code",
   "execution_count": null,
   "id": "3afd2755",
   "metadata": {},
   "outputs": [],
   "source": [
    "residuals = pd.DataFrame(model_fit.resid)\n",
    "fig, ax = plt.subplots(1,2, figsize=(15,5))\n",
    "residuals.plot(title=\"Residuals\", ax=ax[0])\n",
    "residuals.plot(kind='kde', title='Density', ax=ax[1])\n",
    "plt.show()"
   ]
  },
  {
   "cell_type": "code",
   "execution_count": null,
   "id": "98d2b77f",
   "metadata": {},
   "outputs": [],
   "source": [
    "# Actual vs Fitted\n",
    "monthyr['forecast']=model_fit.predict(dynamic=False)\n",
    "monthyr[['monthyr_profit','forecast']].plot(figsize=(12,8), linewidth=1.5)\n",
    "plt.ylabel('Sale Profits')"
   ]
  },
  {
   "cell_type": "code",
   "execution_count": null,
   "id": "23c042c2",
   "metadata": {},
   "outputs": [],
   "source": [
    "#another way to plot actual vs predicted that hopefully shows forecast\n",
    "from pandas.tseries.offsets import DateOffset\n",
    "pred_date=[monthyr.index[-1]+ DateOffset(months=x)for x in range(0,24)]\n",
    "# Giving similar names to columns.\n",
    "\n",
    "# Input:\n",
    "\n",
    "pred_date=pd.DataFrame(index=pred_date[1:],columns=monthyr.columns)\n",
    "pred_date\n",
    "\n",
    "# monthyr['diff']=monthyr.monthyr_profit.diff().dropna()\n",
    "\n",
    "monthyr=pd.concat([monthyr,pred_date])\n",
    "monthyr['forecast'] = model_fit.predict(start = 90, end = 120, dynamic= False)\n",
    "monthyr[['monthyr_profit', 'forecast']].plot(figsize=(12, 8), linewidth=1.5)"
   ]
  },
  {
   "cell_type": "code",
   "execution_count": null,
   "id": "64bfa79c",
   "metadata": {},
   "outputs": [],
   "source": [
    "#pred = model_fit.get_prediction(start=pd.to_datetime('2020-01-01'), dynamic=False)\n",
    "\n",
    "#update your data with the real values instead, you set dynamic=False\n",
    "pred = model_fit.get_prediction(start=pd.to_datetime('2020-01-01'), dynamic=False)\n",
    "pred_ci = pred.conf_int()\n",
    "ax = monthyr.monthyr_profit['2012':].plot(label='observed')\n",
    "pred.predicted_mean.plot(ax=ax, label='One-step ahead Forecast', alpha=.7, figsize=(14, 7))\n",
    "\n",
    "ax.fill_between(pred_ci.index,\n",
    "                pred_ci.iloc[:, 0],\n",
    "                pred_ci.iloc[:, 1], color='k', alpha=.2)\n",
    "ax.set_xlabel('Date')\n",
    "ax.set_ylabel('Profits')\n",
    "plt.legend()\n",
    "plt.show()\n"
   ]
  },
  {
   "cell_type": "code",
   "execution_count": null,
   "id": "0f271982",
   "metadata": {},
   "outputs": [],
   "source": [
    "from statsmodels.tsa.statespace.sarimax import SARIMAX\n",
    "\n",
    "model = SARIMAX(monthyr.monthyr_profit,order=(2,1,2), exogeneous=monthyr.index,\n",
    "              seasonal_order=(2,1,2,12),enforce_stationarity=True,\n",
    "              enforce_invertibility=False)\n",
    "results = model.fit()"
   ]
  },
  {
   "cell_type": "code",
   "execution_count": null,
   "id": "bc673e1a",
   "metadata": {},
   "outputs": [],
   "source": [
    "#plotting the seasonal forecasted sales\n",
    "forecast = results.predict(dynamic=False)\n",
    "forecast[1:].plot(linewidth=1.5,legend=True)\n",
    "monthyr.monthyr_profit.plot(linewidth=1.5,legend=True)\n"
   ]
  },
  {
   "cell_type": "code",
   "execution_count": null,
   "id": "52cbefc0",
   "metadata": {},
   "outputs": [],
   "source": [
    "#plotting the predictions with confidence interval\n",
    "pred = results.get_prediction(start=pd.to_datetime('2020-01-01'), dynamic=False)\n",
    "pred_ci = pred.conf_int()\n",
    "ax = monthyr.monthyr_profit['2012':].plot(label='observed')\n",
    "pred.predicted_mean.plot(ax=ax, label='Forecast', alpha=.7, figsize=(14, 7))\n",
    "ax.fill_between(pred_ci.index,\n",
    "                pred_ci.iloc[:, 0],pred_ci.iloc[:, 1], color='k', alpha=.2)\n",
    "ax.set_xlabel('Date')\n",
    "ax.set_ylabel('Profits')\n",
    "plt.legend()\n",
    "plt.show()"
   ]
  },
  {
   "cell_type": "markdown",
   "id": "eb17b759",
   "metadata": {},
   "source": [
    "# Stepwise Regression for important features"
   ]
  },
  {
   "cell_type": "code",
   "execution_count": null,
   "id": "22fd9c41",
   "metadata": {},
   "outputs": [],
   "source": [
    "dfr=df.copy()"
   ]
  },
  {
   "cell_type": "code",
   "execution_count": null,
   "id": "6cddad63",
   "metadata": {},
   "outputs": [],
   "source": [
    "#separate types of columns/features\n",
    "\n",
    "categorical_features=['LiquorType', 'Store Type', 'Bottle Size', 'county', 'city']\n",
    "numerical_features = ['pack', 'state_bottle_cost', 'state_bottle_retail','bottles_sold','volume_sold_liters']\n",
    "                   #  'Longitude', 'Latitude']\n",
    "\n",
    "numerical=dfr[numerical_features]\n",
    "categorical=dfr[categorical_features]"
   ]
  },
  {
   "cell_type": "code",
   "execution_count": null,
   "id": "4a5bbe7f",
   "metadata": {},
   "outputs": [],
   "source": [
    "from sklearn.preprocessing import StandardScaler\n",
    "\n",
    "scaler = StandardScaler()\n",
    "# transform data\n",
    "scaled = scaler.fit_transform(dfr[numerical_features])\n",
    "dfr[numerical_features]=scaled"
   ]
  },
  {
   "cell_type": "code",
   "execution_count": null,
   "id": "683ed695",
   "metadata": {},
   "outputs": [],
   "source": [
    "#dummifying the categorical features\n",
    "dummy= pd.get_dummies(dfr[categorical_features], drop_first=True)\n",
    "\n",
    "#viewing dummy to make sure the values are correct\n",
    "dummy"
   ]
  },
  {
   "cell_type": "code",
   "execution_count": null,
   "id": "fbac39b6",
   "metadata": {},
   "outputs": [],
   "source": [
    "x=pd.concat([dummy, dfr[numerical_features]], axis=1)\n",
    "yols = np.log(df['Profit_per_sale']+1)"
   ]
  },
  {
   "cell_type": "code",
   "execution_count": null,
   "id": "c9096186",
   "metadata": {},
   "outputs": [],
   "source": [
    "# import numpy as np\n",
    "# import statsmodels.api as sm\n",
    "# from sklearn.model_selection import train_test_split\n",
    "\n",
    "# xols=sm.add_constant(x)\n",
    "\n",
    "# X_train, X_test, Y_train, Y_test=train_test_split(xols,yols, test_size=.3)\n",
    "#\n",
    "# #   \n",
    "# results=sm.OLS(Y_train,X_train).fit()\n",
    "# print(results.summary())\n",
    "# "
   ]
  },
  {
   "cell_type": "code",
   "execution_count": null,
   "id": "fe304bcd",
   "metadata": {
    "scrolled": true
   },
   "outputs": [],
   "source": [
    "# from sklearn import linear_model\n",
    "# X_train, X_test, Y_train, Y_test=train_test_split(x,y, test_size=.3)\n",
    "# lm = linear_model.LinearRegression() \n",
    "# #generate fit of model base on training set\n",
    "\n",
    "# model = lm.fit(X_train, Y_train) \n",
    "# #generate predicted values of y_test from X_test based off of training set\n",
    "# predictions = lm.predict(X_test)\n",
    "# #plotting predicted ys against y values in test set \n",
    "# plt.scatter(Y_test, predictions)\n",
    "# lm.score(X_test, Y_test)"
   ]
  },
  {
   "cell_type": "markdown",
   "id": "15cec3e4",
   "metadata": {},
   "source": [
    "# LassoCV Regession\n",
    "\n",
    "Seeing if Lasso can help with feature selection"
   ]
  },
  {
   "cell_type": "code",
   "execution_count": null,
   "id": "7f738975",
   "metadata": {},
   "outputs": [],
   "source": [
    "x.isnull().sum()"
   ]
  },
  {
   "cell_type": "code",
   "execution_count": null,
   "id": "fc758de2",
   "metadata": {
    "scrolled": true
   },
   "outputs": [],
   "source": [
    "from sklearn.linear_model import LassoCV\n",
    "from sklearn.model_selection import RepeatedKFold\n",
    "\n",
    "cv = RepeatedKFold(n_splits=10, n_repeats=3, random_state=1)\n",
    "lasso = LassoCV(alphas=np.arange(0, 1, 0.01), cv=cv, n_jobs=-1)\n",
    "\n",
    "#fitting the model\n",
    "lasso.fit(X_train, Y_train)\n",
    "\n",
    "lasso.score(X_train, Y_train)"
   ]
  },
  {
   "cell_type": "code",
   "execution_count": null,
   "id": "85dc61d1",
   "metadata": {},
   "outputs": [],
   "source": [
    "lasso.score(X_test, Y_test)\n",
    "#big difference between train and test set indicating overfitting"
   ]
  },
  {
   "cell_type": "code",
   "execution_count": null,
   "id": "c0483194",
   "metadata": {},
   "outputs": [],
   "source": [
    "# Plot important coefficients of 2nd model\n",
    "coefs1 = pd.Series(lasso.coef_, index = X_train.columns)\n",
    "print(\"Lasso picked \" + str(sum(coefs1 != 0)) + \" features and eliminated the other \" +  \\\n",
    "      str(sum(coefs1 == 0)) + \" features\")\n",
    "imp_coefs = pd.concat([coefs1.sort_values().head(10),\n",
    "                     coefs1.sort_values().tail(10)])\n",
    "imp_coefs.plot(kind = \"barh\")\n",
    "plt.title(\"Coefficients in the Lasso Model\", fontsize=25)\n",
    "plt.show()\n",
    "\n",
    "#all the top coefficients are location related- county and city"
   ]
  },
  {
   "cell_type": "code",
   "execution_count": null,
   "id": "b6c68d66",
   "metadata": {},
   "outputs": [],
   "source": [
    "# from sklearn import svm\n",
    "\n",
    "# classifiers = [\n",
    "#     svm.SVR(),\n",
    "#     linear_model.SGDRegressor(),\n",
    "#     linear_model.BayesianRidge(),\n",
    "#     linear_model.LassoLars(),\n",
    "#     linear_model.ARDRegression(),\n",
    "#     linear_model.PassiveAggressiveRegressor(),\n",
    "#     linear_model.TheilSenRegressor(),\n",
    "#     linear_model.LinearRegression()]\n",
    "\n",
    "\n",
    "# for item in classifiers:\n",
    "#     print(item)\n",
    "#     clf = item\n",
    "#     clf.fit(X_train, Y_train)\n",
    "#     print(clf.score(X_train, Y_train),'\\n')\n",
    "#     print(clf.score(X_test, Y_test),'\\n')"
   ]
  },
  {
   "cell_type": "markdown",
   "id": "b2518e69",
   "metadata": {},
   "source": [
    "# K Means Clustering\n",
    "\n",
    " “the objective of K-means is simple: group similar data points together and discover underlying patterns\""
   ]
  },
  {
   "cell_type": "code",
   "execution_count": null,
   "id": "c5d5aece",
   "metadata": {
    "scrolled": true
   },
   "outputs": [],
   "source": [
    "from sklearn.cluster import KMeans\n",
    "from kneed import KneeLocator\n",
    "from sklearn.datasets import make_blobs\n",
    "\n",
    "kmeans_kwargs = {\n",
    " \"init\": \"random\", \"n_init\": 10,\"max_iter\": 300,\"random_state\": 42}\n",
    "\n",
    "\n",
    "sse = []\n",
    "for k in range(1, 11):\n",
    "    kmeans = KMeans(n_clusters=k, **kmeans_kwargs)\n",
    "    kmeans.fit(x)\n",
    "    sse.append(kmeans.inertia_)\n",
    "\n",
    "#plotting to see optimal number of clusters\n",
    "plt.style.use(\"fivethirtyeight\")\n",
    "plt.plot(range(1, 11), sse)\n",
    "plt.xticks(range(1, 11))\n",
    "plt.xlabel(\"Number of Clusters\")\n",
    "plt.ylabel(\"SSE\")\n",
    "plt.show()\n",
    "\n",
    "#using function to see optimal number of clusters\n",
    "kl = KneeLocator(\n",
    "range(1, 11), sse, curve=\"convex\", direction=\"decreasing\")\n",
    "k=kl.elbow\n",
    "k\n"
   ]
  },
  {
   "cell_type": "code",
   "execution_count": null,
   "id": "3281dd76",
   "metadata": {},
   "outputs": [],
   "source": [
    "import matplotlib.pyplot as plt\n",
    "import seaborn as sns\n",
    "\n",
    "#carrying out kmeans with the correct number of clusters\n",
    "kmeans = KMeans(n_jobs = -1, n_clusters = 3, init='k-means++')\n",
    "\n",
    "#fitting the model\n",
    "kmeans.fit(x)\n",
    "\n",
    "#creating dataframe to add the predictions to\n",
    "pred = kmeans.predict(x)\n",
    "frame = pd.DataFrame(x)\n",
    "frame['cluster'] = pred\n",
    "\n",
    "#getting the amount of samples in each cluster\n",
    "frame['cluster'].value_counts()"
   ]
  },
  {
   "cell_type": "code",
   "execution_count": null,
   "id": "311899f7",
   "metadata": {},
   "outputs": [],
   "source": [
    "labels = kmeans.labels_\n",
    "centers = kmeans.cluster_centers_\n",
    "plt.scatter(x.iloc[:, 19], x.iloc[:, 20], c = labels, alpha = 0.8)\n",
    "plt.scatter(centers[:, 5], centers[:, 5], marker = '+', s = 1000, c = [0, 1, 2,3,4,])\n",
    "plt.show()"
   ]
  },
  {
   "cell_type": "markdown",
   "id": "1a66b401",
   "metadata": {},
   "source": [
    "# Tree Based models\n",
    "\n",
    "prepping the training data /n\n",
    "features for tree models do not need to be standardized "
   ]
  },
  {
   "cell_type": "code",
   "execution_count": null,
   "id": "4974d076",
   "metadata": {},
   "outputs": [],
   "source": [
    "#Recreating the numerical and categorical features we have selected\n",
    "num=df[numerical_features]\n",
    "categ=df[categorical_features]\n"
   ]
  },
  {
   "cell_type": "code",
   "execution_count": null,
   "id": "f3f06259",
   "metadata": {},
   "outputs": [],
   "source": [
    "#encoding the categories for processing\n",
    "for col_name in categ.columns:\n",
    "    if(categ[col_name].dtype == 'object'):\n",
    "        categ[col_name]= categ[col_name].astype('category')\n",
    "        categ[col_name] = categ[col_name].cat.codes\n",
    "categ"
   ]
  },
  {
   "cell_type": "code",
   "execution_count": null,
   "id": "0e971e52",
   "metadata": {
    "scrolled": true
   },
   "outputs": [],
   "source": [
    "#creating the x and y data to train and test\n",
    "treex=pd.concat([num, categ], axis=1)\n",
    "treey=df['Profit_per_sale']"
   ]
  },
  {
   "cell_type": "markdown",
   "id": "cf8eea85",
   "metadata": {},
   "source": [
    "# Decision Tree Regression\n",
    "\n",
    "Builds regression or classification models in the form of a tree structure\n",
    "Decision trees where the target variable can take continuous values (typically real numbers) are called regression trees.\n"
   ]
  },
  {
   "cell_type": "code",
   "execution_count": null,
   "id": "1449765e",
   "metadata": {},
   "outputs": [],
   "source": [
    "from sklearn.tree import DecisionTreeRegressor\n",
    "from sklearn.model_selection import train_test_split\n",
    "\n",
    "#splitting the data\n",
    "Xt_train, Xt_test, yt_train, yt_test = train_test_split(treex,treey, \n",
    "test_size=0.30, random_state=0)\n",
    "\n",
    "dt = DecisionTreeRegressor(random_state=0, criterion=\"mse\")\n",
    "dt.fit(Xt_train, yt_train)\n",
    "\n",
    "dt_scores = cross_val_score(dt, Xt_train, yt_train, cv = 10)\n",
    "print(\"mean cross validation score: {}\".format(np.mean(dt_scores)))\n",
    "print(\"score without cv: {}\".format(dt.score(Xt_train, yt_train)))\n",
    "\n",
    "# R^2 score on the test set\n",
    "from sklearn.metrics import r2_score\n",
    "print(r2_score(yt_test, dt.predict(Xt_test)))\n",
    "print(dt.score(Xt_test, yt_test))\n"
   ]
  },
  {
   "cell_type": "code",
   "execution_count": null,
   "id": "66e8122e",
   "metadata": {},
   "outputs": [],
   "source": [
    "#looking at the individual cv scores\n",
    "dt_scores"
   ]
  },
  {
   "cell_type": "code",
   "execution_count": null,
   "id": "3e86600b",
   "metadata": {
    "scrolled": true
   },
   "outputs": [],
   "source": [
    "#plotting the decision tree model\n",
    "\n",
    "dt_fit=dt.fit(Xt_train, yt_train)\n",
    "\n",
    "from sklearn.tree import plot_tree\n",
    "plt.figure(figsize=(10,8), dpi=150)\n",
    "plot_tree(dt_fit, feature_names=treex.columns, filled=True);"
   ]
  },
  {
   "cell_type": "code",
   "execution_count": null,
   "id": "850a615f",
   "metadata": {},
   "outputs": [],
   "source": [
    "dt = DecisionTreeRegressor(random_state=0, criterion=\"mse\",max_depth=8, min_samples_split=8 )\n",
    "dt.fit(Xt_train, yt_train)\n",
    "\n",
    "dt_scores = cross_val_score(dt, Xt_train, yt_train, cv = 10)\n",
    "print(\"mean cross validation score: {}\".format(np.mean(dt_scores)))\n",
    "print(\"score without cv: {}\".format(dt.score(Xt_train, yt_train)))\n",
    "\n",
    "# R^2 score on the test set\n",
    "from sklearn.metrics import r2_score\n",
    "print(r2_score(yt_test, dt.predict(Xt_test)))\n",
    "print(dt.score(Xt_test, yt_test))\n",
    "\n",
    "dt_fit=dt.fit(Xt_train, yt_train)\n",
    "\n",
    "from sklearn.tree import plot_tree\n",
    "plt.figure(figsize=(10,8), dpi=150)\n",
    "plot_tree(dt_fit, feature_names=treex.columns, filled=True);"
   ]
  },
  {
   "cell_type": "code",
   "execution_count": null,
   "id": "9ac0225d",
   "metadata": {},
   "outputs": [],
   "source": [
    "# from sklearn.model_selection import GridSearchCV\n",
    "# params = {'max_depth': [2,4,6,8,10,12],\n",
    "#          'min_samples_split': [2,3,4],\n",
    "#          'min_samples_leaf': [2,4]}\n",
    "\n",
    "# clf = DecisionTreeRegressor()\n",
    "# gcv = GridSearchCV(estimator=clf,param_grid=params)\n",
    "# gcv.fit(Xt_train,yt_train)\n",
    "\n",
    "# model = gcv.best_estimator_\n",
    "# model.fit(Xt_train,yt_train)\n",
    "# dt2_fit=model.fit(Xt_train,yt_train)\n",
    "# y_train_pred = model.predict(Xt_train)\n",
    "# y_test_pred = model.predict(Xt_test)\n",
    "\n",
    "# print(f'Train score {accuracy_score(y_train_pred,yt_train)}')\n",
    "# print(f'Test score {accuracy_score(y_test_pred,yt_test)}')\n",
    "# plt.figure(figsize=(10,8), dpi=150)\n",
    "# plot_tree(dt2_fit, feature_names=treex.columns, filled=True);"
   ]
  },
  {
   "cell_type": "markdown",
   "id": "87764593",
   "metadata": {},
   "source": [
    "# Random Forest Regression\n",
    "-Combines the predictions from multiple machine learning algorithms together to make more accurate predictions than any individual model."
   ]
  },
  {
   "cell_type": "code",
   "execution_count": null,
   "id": "e57acfee",
   "metadata": {},
   "outputs": [],
   "source": [
    "from sklearn.ensemble import RandomForestRegressor\n",
    "\n",
    "#creating the tree\n",
    "rf = RandomForestRegressor(random_state=0, criterion='mse')\n",
    "rf.fit(Xt_train, yt_train)\n",
    "\n",
    "#performing cross validation\n",
    "rf_scores = cross_val_score(rf, Xt_train, yt_train, cv = 5)\n",
    "print(\"mean cross validation score: {}\".format(np.mean(rf_scores)))\n",
    "print(\"score without cv: {}\".format(rf.score(Xt_train, yt_train)))\n",
    "\n",
    "rffit=rf.fit(Xt_train, yt_train)\n",
    "# Scores on the test or hold-out set\n",
    "from sklearn.metrics import r2_score\n",
    "print(r2_score(yt_test, rf.predict(Xt_test)))\n",
    "print(rf.score(Xt_test, yt_test))\n",
    "\n",
    "# mean cross validation score: 0.9345547572053438\n",
    "# score without cv: 0.9901271896815937\n",
    "# 0.9026091822325131\n",
    "# 0.9026091822325131"
   ]
  },
  {
   "cell_type": "code",
   "execution_count": null,
   "id": "660c96bd",
   "metadata": {},
   "outputs": [],
   "source": [
    "# '''Running a comprehensive Gridsearch for Random Forest'''\n",
    "# from sklearn.model_selection import GridSearchCV\n",
    "# #Creating the parameters for gridsearch\n",
    "# randomparams={'bootstrap': [True, False],\n",
    "#  'max_depth': [10, 20, 30, 40, 50, 60, 70, 80, 90, 100, None],\n",
    "#  'max_features': ['auto', 'sqrt'],\n",
    "#  'min_samples_leaf': [1, 2, 4],\n",
    "#  'min_samples_split': [2, 5, 10],\n",
    "#  'n_estimators': [200, 400, 600, 800, 1000, 1200, 1400, 1600, 1800, 2000]}\n",
    "\n",
    "\n",
    "\n",
    "# rfcv = GridSearchCV(estimator = rf, param_grid = randomparams, cv = 3, n_jobs = -1)\n",
    "\n",
    "# rfcv.fit(Xt_train, yt_train)\n",
    "# print(r2_score(y_test, rfcv.predict(Xt_test)))\n",
    "# print(rfcv.score(Xt_test, yt_test))"
   ]
  },
  {
   "cell_type": "code",
   "execution_count": null,
   "id": "7d3b0f3c",
   "metadata": {},
   "outputs": [],
   "source": []
  }
 ],
 "metadata": {
  "kernelspec": {
   "display_name": "Python 3",
   "language": "python",
   "name": "python3"
  },
  "language_info": {
   "codemirror_mode": {
    "name": "ipython",
    "version": 3
   },
   "file_extension": ".py",
   "mimetype": "text/x-python",
   "name": "python",
   "nbconvert_exporter": "python",
   "pygments_lexer": "ipython3",
   "version": "3.8.8"
  }
 },
 "nbformat": 4,
 "nbformat_minor": 5
}
