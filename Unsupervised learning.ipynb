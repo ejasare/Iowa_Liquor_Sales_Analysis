{
 "cells": [
  {
   "cell_type": "code",
   "execution_count": 148,
   "id": "e4990e3f",
   "metadata": {},
   "outputs": [],
   "source": [
    "#Set environment variables for our notebook\n",
    "import os \n",
    "os.environ['GOOGLE_APPLICATION_CREDENTIALS'] = 'bigqueryliquor.json'\n",
    "#Imports google cloud client library and initiates BQ service\n",
    "from google.cloud import bigquery\n",
    "bigquery_client = bigquery.Client()\n",
    "#Write Query on BQ (in this case we retrieve data within the 2018-01-01 to 2018-12-31 timeframe and focus on the Hy-Vee \n",
    "#store, as we found in our initial data analysis that Hy-Vee sold the most liquors over the years in Iowa)\n",
    "QUERY = \"\"\"\n",
    "SELECT\n",
    "  *\n",
    "FROM \n",
    "  `liquor-store-sale-capstone.liquor_store_sales.Iowa_Hy-Vee_Liquor_Sale_Beg2012_NoNull`\n",
    "ORDER BY RAND()\n",
    "LIMIT 10000\n",
    "  \"\"\"\n",
    "#Run the query and write result to a pandas data frame\n",
    "Query_Results = bigquery_client.query(QUERY)\n",
    "df = Query_Results.to_dataframe()"
   ]
  },
  {
   "cell_type": "code",
   "execution_count": 149,
   "id": "9429105b",
   "metadata": {},
   "outputs": [],
   "source": [
    "import pandas as pd\n",
    "pd.set_option('display.max_columns',None)"
   ]
  },
  {
   "cell_type": "code",
   "execution_count": 150,
   "id": "c6446c49",
   "metadata": {},
   "outputs": [],
   "source": [
    "#In order for easy data processing, all the preprocessing processes done in the 'EDA, Location Analysis, Time Series.ipynb'\n",
    "#have been streamlined into 'dataprocessing.py'\n",
    "# %load_ext autoreload\n",
    "# %autoreload 2\n",
    "from dataprocessing import preprocessing"
   ]
  },
  {
   "cell_type": "code",
   "execution_count": 151,
   "id": "28ec2347",
   "metadata": {},
   "outputs": [],
   "source": [
    "#streamlined preprocessing data\n",
    "import warnings\n",
    "warnings.filterwarnings('ignore')\n",
    "df = preprocessing(df)"
   ]
  },
  {
   "cell_type": "code",
   "execution_count": 152,
   "id": "c48cf048",
   "metadata": {},
   "outputs": [
    {
     "data": {
      "text/html": [
       "<div>\n",
       "<style scoped>\n",
       "    .dataframe tbody tr th:only-of-type {\n",
       "        vertical-align: middle;\n",
       "    }\n",
       "\n",
       "    .dataframe tbody tr th {\n",
       "        vertical-align: top;\n",
       "    }\n",
       "\n",
       "    .dataframe thead th {\n",
       "        text-align: right;\n",
       "    }\n",
       "</style>\n",
       "<table border=\"1\" class=\"dataframe\">\n",
       "  <thead>\n",
       "    <tr style=\"text-align: right;\">\n",
       "      <th></th>\n",
       "      <th>date</th>\n",
       "      <th>store_number</th>\n",
       "      <th>address</th>\n",
       "      <th>city</th>\n",
       "      <th>zip_code</th>\n",
       "      <th>county</th>\n",
       "      <th>vendor_number</th>\n",
       "      <th>vendor_name</th>\n",
       "      <th>item_description</th>\n",
       "      <th>pack</th>\n",
       "      <th>bottle_volume_ml</th>\n",
       "      <th>state_bottle_cost</th>\n",
       "      <th>state_bottle_retail</th>\n",
       "      <th>bottles_sold</th>\n",
       "      <th>sale_dollars</th>\n",
       "      <th>volume_sold_liters</th>\n",
       "      <th>profit_per_bottle</th>\n",
       "      <th>profit_per_sale</th>\n",
       "      <th>coordinates</th>\n",
       "      <th>liquor_type</th>\n",
       "      <th>month</th>\n",
       "      <th>year</th>\n",
       "      <th>day_of_year</th>\n",
       "      <th>day_of_week</th>\n",
       "      <th>store_type</th>\n",
       "    </tr>\n",
       "  </thead>\n",
       "  <tbody>\n",
       "    <tr>\n",
       "      <th>0</th>\n",
       "      <td>2020-03-02</td>\n",
       "      <td>2647</td>\n",
       "      <td>5050 Edgewood Rd</td>\n",
       "      <td>Cedar Rapids</td>\n",
       "      <td>52411.0</td>\n",
       "      <td>LINN</td>\n",
       "      <td>370</td>\n",
       "      <td>PERNOD RICARD USA</td>\n",
       "      <td>Absolut Grapefruit</td>\n",
       "      <td>12</td>\n",
       "      <td>750</td>\n",
       "      <td>9.99</td>\n",
       "      <td>14.99</td>\n",
       "      <td>3</td>\n",
       "      <td>44.97</td>\n",
       "      <td>2.25</td>\n",
       "      <td>5.00</td>\n",
       "      <td>15.00</td>\n",
       "      <td>[42.030129, -91.701581]</td>\n",
       "      <td>vodka</td>\n",
       "      <td>3</td>\n",
       "      <td>2020</td>\n",
       "      <td>62</td>\n",
       "      <td>0</td>\n",
       "      <td>Supermarket</td>\n",
       "    </tr>\n",
       "    <tr>\n",
       "      <th>1</th>\n",
       "      <td>2012-10-30</td>\n",
       "      <td>2656</td>\n",
       "      <td>300  10TH ST</td>\n",
       "      <td>CORNING</td>\n",
       "      <td>51632</td>\n",
       "      <td>Clayton</td>\n",
       "      <td>35</td>\n",
       "      <td>Bacardi U.S.A., Inc.</td>\n",
       "      <td>Bacardi Gold Rum</td>\n",
       "      <td>12</td>\n",
       "      <td>750</td>\n",
       "      <td>7.53</td>\n",
       "      <td>11.30</td>\n",
       "      <td>2</td>\n",
       "      <td>22.60</td>\n",
       "      <td>1.50</td>\n",
       "      <td>3.77</td>\n",
       "      <td>7.54</td>\n",
       "      <td>[40.991861, -94.731809]</td>\n",
       "      <td>rum</td>\n",
       "      <td>10</td>\n",
       "      <td>2012</td>\n",
       "      <td>304</td>\n",
       "      <td>1</td>\n",
       "      <td>Supermarket</td>\n",
       "    </tr>\n",
       "    <tr>\n",
       "      <th>2</th>\n",
       "      <td>2021-07-30</td>\n",
       "      <td>2621</td>\n",
       "      <td>3301 Gordon Dr</td>\n",
       "      <td>Sioux City</td>\n",
       "      <td>51105.0</td>\n",
       "      <td>WOODBURY</td>\n",
       "      <td>395</td>\n",
       "      <td>PROXIMO</td>\n",
       "      <td>1800 Ultimate Raspberry Margarita</td>\n",
       "      <td>6</td>\n",
       "      <td>1750</td>\n",
       "      <td>10.04</td>\n",
       "      <td>15.06</td>\n",
       "      <td>4</td>\n",
       "      <td>60.24</td>\n",
       "      <td>7.00</td>\n",
       "      <td>5.02</td>\n",
       "      <td>20.08</td>\n",
       "      <td>[42.487752, -96.364108]</td>\n",
       "      <td>other</td>\n",
       "      <td>7</td>\n",
       "      <td>2021</td>\n",
       "      <td>211</td>\n",
       "      <td>4</td>\n",
       "      <td>Supermarket</td>\n",
       "    </tr>\n",
       "    <tr>\n",
       "      <th>3</th>\n",
       "      <td>2013-12-23</td>\n",
       "      <td>2635</td>\n",
       "      <td>4064 E 53RD ST</td>\n",
       "      <td>DAVENPORT</td>\n",
       "      <td>52807</td>\n",
       "      <td>Scott</td>\n",
       "      <td>395</td>\n",
       "      <td>Proximo</td>\n",
       "      <td>Jose Cuervo Especial Reposado Tequila</td>\n",
       "      <td>6</td>\n",
       "      <td>1750</td>\n",
       "      <td>20.25</td>\n",
       "      <td>30.37</td>\n",
       "      <td>6</td>\n",
       "      <td>182.22</td>\n",
       "      <td>10.50</td>\n",
       "      <td>10.12</td>\n",
       "      <td>60.72</td>\n",
       "      <td>[41.574973, -90.513769]</td>\n",
       "      <td>tequila</td>\n",
       "      <td>12</td>\n",
       "      <td>2013</td>\n",
       "      <td>357</td>\n",
       "      <td>0</td>\n",
       "      <td>Supermarket</td>\n",
       "    </tr>\n",
       "    <tr>\n",
       "      <th>4</th>\n",
       "      <td>2019-07-25</td>\n",
       "      <td>2627</td>\n",
       "      <td>3330 Martin Luther King Jr Pkwy</td>\n",
       "      <td>Des Moines</td>\n",
       "      <td>50310.0</td>\n",
       "      <td>POLK</td>\n",
       "      <td>434</td>\n",
       "      <td>LUXCO INC</td>\n",
       "      <td>Lady Bligh Spiced Rum</td>\n",
       "      <td>12</td>\n",
       "      <td>1000</td>\n",
       "      <td>7.25</td>\n",
       "      <td>10.88</td>\n",
       "      <td>4</td>\n",
       "      <td>43.52</td>\n",
       "      <td>4.00</td>\n",
       "      <td>3.63</td>\n",
       "      <td>14.52</td>\n",
       "      <td>[41.625924, -93.65078800000002]</td>\n",
       "      <td>rum</td>\n",
       "      <td>7</td>\n",
       "      <td>2019</td>\n",
       "      <td>206</td>\n",
       "      <td>3</td>\n",
       "      <td>Liquor Store</td>\n",
       "    </tr>\n",
       "  </tbody>\n",
       "</table>\n",
       "</div>"
      ],
      "text/plain": [
       "        date store_number                          address          city  \\\n",
       "0 2020-03-02         2647                 5050 Edgewood Rd  Cedar Rapids   \n",
       "1 2012-10-30         2656                     300  10TH ST       CORNING   \n",
       "2 2021-07-30         2621                   3301 Gordon Dr    Sioux City   \n",
       "3 2013-12-23         2635                   4064 E 53RD ST     DAVENPORT   \n",
       "4 2019-07-25         2627  3330 Martin Luther King Jr Pkwy    Des Moines   \n",
       "\n",
       "  zip_code    county vendor_number           vendor_name  \\\n",
       "0  52411.0      LINN           370     PERNOD RICARD USA   \n",
       "1    51632   Clayton            35  Bacardi U.S.A., Inc.   \n",
       "2  51105.0  WOODBURY           395               PROXIMO   \n",
       "3    52807     Scott           395               Proximo   \n",
       "4  50310.0      POLK           434             LUXCO INC   \n",
       "\n",
       "                        item_description  pack  bottle_volume_ml  \\\n",
       "0                     Absolut Grapefruit    12               750   \n",
       "1                       Bacardi Gold Rum    12               750   \n",
       "2      1800 Ultimate Raspberry Margarita     6              1750   \n",
       "3  Jose Cuervo Especial Reposado Tequila     6              1750   \n",
       "4                  Lady Bligh Spiced Rum    12              1000   \n",
       "\n",
       "   state_bottle_cost  state_bottle_retail  bottles_sold  sale_dollars  \\\n",
       "0               9.99                14.99             3         44.97   \n",
       "1               7.53                11.30             2         22.60   \n",
       "2              10.04                15.06             4         60.24   \n",
       "3              20.25                30.37             6        182.22   \n",
       "4               7.25                10.88             4         43.52   \n",
       "\n",
       "   volume_sold_liters  profit_per_bottle  profit_per_sale  \\\n",
       "0                2.25               5.00            15.00   \n",
       "1                1.50               3.77             7.54   \n",
       "2                7.00               5.02            20.08   \n",
       "3               10.50              10.12            60.72   \n",
       "4                4.00               3.63            14.52   \n",
       "\n",
       "                       coordinates liquor_type  month  year  day_of_year  \\\n",
       "0          [42.030129, -91.701581]       vodka      3  2020           62   \n",
       "1          [40.991861, -94.731809]         rum     10  2012          304   \n",
       "2          [42.487752, -96.364108]       other      7  2021          211   \n",
       "3          [41.574973, -90.513769]     tequila     12  2013          357   \n",
       "4  [41.625924, -93.65078800000002]         rum      7  2019          206   \n",
       "\n",
       "   day_of_week    store_type  \n",
       "0            0   Supermarket  \n",
       "1            1   Supermarket  \n",
       "2            4   Supermarket  \n",
       "3            0   Supermarket  \n",
       "4            3  Liquor Store  "
      ]
     },
     "execution_count": 152,
     "metadata": {},
     "output_type": "execute_result"
    }
   ],
   "source": [
    "df.head()"
   ]
  },
  {
   "cell_type": "code",
   "execution_count": 153,
   "id": "870c7fb4",
   "metadata": {},
   "outputs": [],
   "source": [
    "#As we can see, the dataset includes both categorical and numerical data that might be helpful for our unsupervised \n",
    "#learning, therefore we will use K-Prototypes as our clustering algorhithm because the traditional K-Means is calculated\n",
    "#using Euclidian distance that is only suitable for numerical data, although we could try encoding our categorical \n",
    "#variables. Since our data set doesn't contain so many features and we will like drop some of them, we will just focus on\n",
    "#K-prototypes\n",
    "import copy\n",
    "ul=copy.deepcopy(df)"
   ]
  },
  {
   "cell_type": "code",
   "execution_count": 154,
   "id": "5a0f494a",
   "metadata": {},
   "outputs": [],
   "source": [
    "from kmodes.kprototypes import KPrototypes"
   ]
  },
  {
   "cell_type": "code",
   "execution_count": 155,
   "id": "adea6442",
   "metadata": {},
   "outputs": [],
   "source": [
    "#First we lower case the whole dataset to avoid duplicates in string type\n",
    "ul = ul.applymap(lambda s: s.lower() if type(s) == str else s)"
   ]
  },
  {
   "cell_type": "code",
   "execution_count": 156,
   "id": "e4997bf8",
   "metadata": {},
   "outputs": [
    {
     "name": "stdout",
     "output_type": "stream",
     "text": [
      "<class 'pandas.core.frame.DataFrame'>\n",
      "Int64Index: 9988 entries, 0 to 9999\n",
      "Data columns (total 25 columns):\n",
      " #   Column               Non-Null Count  Dtype         \n",
      "---  ------               --------------  -----         \n",
      " 0   date                 9988 non-null   datetime64[ns]\n",
      " 1   store_number         9988 non-null   object        \n",
      " 2   address              9988 non-null   object        \n",
      " 3   city                 9988 non-null   object        \n",
      " 4   zip_code             9988 non-null   object        \n",
      " 5   county               9975 non-null   object        \n",
      " 6   vendor_number        9988 non-null   object        \n",
      " 7   vendor_name          9988 non-null   object        \n",
      " 8   item_description     9988 non-null   object        \n",
      " 9   pack                 9988 non-null   int64         \n",
      " 10  bottle_volume_ml     9988 non-null   int64         \n",
      " 11  state_bottle_cost    9988 non-null   float64       \n",
      " 12  state_bottle_retail  9988 non-null   float64       \n",
      " 13  bottles_sold         9988 non-null   int64         \n",
      " 14  sale_dollars         9988 non-null   float64       \n",
      " 15  volume_sold_liters   9988 non-null   float64       \n",
      " 16  profit_per_bottle    9988 non-null   float64       \n",
      " 17  profit_per_sale      9988 non-null   float64       \n",
      " 18  coordinates          9988 non-null   object        \n",
      " 19  liquor_type          9988 non-null   object        \n",
      " 20  month                9988 non-null   int64         \n",
      " 21  year                 9988 non-null   int64         \n",
      " 22  day_of_year          9988 non-null   int64         \n",
      " 23  day_of_week          9988 non-null   int64         \n",
      " 24  store_type           9988 non-null   object        \n",
      "dtypes: datetime64[ns](1), float64(6), int64(7), object(11)\n",
      "memory usage: 2.0+ MB\n"
     ]
    }
   ],
   "source": [
    "#And now we inspect the data types of each column to make sure they are correct\n",
    "ul.info()"
   ]
  },
  {
   "cell_type": "code",
   "execution_count": 157,
   "id": "1a3c3994",
   "metadata": {},
   "outputs": [],
   "source": [
    "#From the summary above, we found the following columns need to be converted to int type:\n",
    "type_change=['store_number','zip_code','vendor_number']"
   ]
  },
  {
   "cell_type": "code",
   "execution_count": 158,
   "id": "a3c7e797",
   "metadata": {},
   "outputs": [],
   "source": [
    "ul[type_change]=ul[type_change].apply(pd.to_numeric).astype(int)"
   ]
  },
  {
   "cell_type": "code",
   "execution_count": 159,
   "id": "98a9a22d",
   "metadata": {},
   "outputs": [
    {
     "name": "stdout",
     "output_type": "stream",
     "text": [
      "<class 'pandas.core.frame.DataFrame'>\n",
      "Int64Index: 9988 entries, 0 to 9999\n",
      "Data columns (total 25 columns):\n",
      " #   Column               Non-Null Count  Dtype         \n",
      "---  ------               --------------  -----         \n",
      " 0   date                 9988 non-null   datetime64[ns]\n",
      " 1   store_number         9988 non-null   int32         \n",
      " 2   address              9988 non-null   object        \n",
      " 3   city                 9988 non-null   object        \n",
      " 4   zip_code             9988 non-null   int32         \n",
      " 5   county               9975 non-null   object        \n",
      " 6   vendor_number        9988 non-null   int32         \n",
      " 7   vendor_name          9988 non-null   object        \n",
      " 8   item_description     9988 non-null   object        \n",
      " 9   pack                 9988 non-null   int64         \n",
      " 10  bottle_volume_ml     9988 non-null   int64         \n",
      " 11  state_bottle_cost    9988 non-null   float64       \n",
      " 12  state_bottle_retail  9988 non-null   float64       \n",
      " 13  bottles_sold         9988 non-null   int64         \n",
      " 14  sale_dollars         9988 non-null   float64       \n",
      " 15  volume_sold_liters   9988 non-null   float64       \n",
      " 16  profit_per_bottle    9988 non-null   float64       \n",
      " 17  profit_per_sale      9988 non-null   float64       \n",
      " 18  coordinates          9988 non-null   object        \n",
      " 19  liquor_type          9988 non-null   object        \n",
      " 20  month                9988 non-null   int64         \n",
      " 21  year                 9988 non-null   int64         \n",
      " 22  day_of_year          9988 non-null   int64         \n",
      " 23  day_of_week          9988 non-null   int64         \n",
      " 24  store_type           9988 non-null   object        \n",
      "dtypes: datetime64[ns](1), float64(6), int32(3), int64(7), object(8)\n",
      "memory usage: 1.9+ MB\n"
     ]
    }
   ],
   "source": [
    "ul.info()"
   ]
  },
  {
   "cell_type": "code",
   "execution_count": 160,
   "id": "a2c7da0b",
   "metadata": {},
   "outputs": [],
   "source": [
    "#Now we downcast data types to make our memory usage even smaller(For practice purpose because the memory usage is very\n",
    "#small)\n",
    "for column in ul:\n",
    "    if ul[column].dtype == \"float64\":\n",
    "        ul[column] = pd.to_numeric(ul[column], downcast=\"float\")\n",
    "    if ul[column].dtype == \"int64\":\n",
    "        ul[column] = pd.to_numeric(ul[column], downcast=\"unsigned\")"
   ]
  },
  {
   "cell_type": "code",
   "execution_count": 161,
   "id": "61fd7b24",
   "metadata": {},
   "outputs": [],
   "source": [
    "#Some columns are good for converting to category types\n",
    "type_change=['item_description','liquor_type','store_type']\n",
    "ul[type_change]=ul[type_change].astype('category')"
   ]
  },
  {
   "cell_type": "code",
   "execution_count": 162,
   "id": "4831c7e2",
   "metadata": {},
   "outputs": [
    {
     "name": "stdout",
     "output_type": "stream",
     "text": [
      "<class 'pandas.core.frame.DataFrame'>\n",
      "Int64Index: 9988 entries, 0 to 9999\n",
      "Data columns (total 25 columns):\n",
      " #   Column               Non-Null Count  Dtype         \n",
      "---  ------               --------------  -----         \n",
      " 0   date                 9988 non-null   datetime64[ns]\n",
      " 1   store_number         9988 non-null   int32         \n",
      " 2   address              9988 non-null   object        \n",
      " 3   city                 9988 non-null   object        \n",
      " 4   zip_code             9988 non-null   int32         \n",
      " 5   county               9975 non-null   object        \n",
      " 6   vendor_number        9988 non-null   int32         \n",
      " 7   vendor_name          9988 non-null   object        \n",
      " 8   item_description     9988 non-null   category      \n",
      " 9   pack                 9988 non-null   uint8         \n",
      " 10  bottle_volume_ml     9988 non-null   uint16        \n",
      " 11  state_bottle_cost    9988 non-null   float32       \n",
      " 12  state_bottle_retail  9988 non-null   float32       \n",
      " 13  bottles_sold         9988 non-null   uint16        \n",
      " 14  sale_dollars         9988 non-null   float32       \n",
      " 15  volume_sold_liters   9988 non-null   float32       \n",
      " 16  profit_per_bottle    9988 non-null   float32       \n",
      " 17  profit_per_sale      9988 non-null   float32       \n",
      " 18  coordinates          9988 non-null   object        \n",
      " 19  liquor_type          9988 non-null   category      \n",
      " 20  month                9988 non-null   uint8         \n",
      " 21  year                 9988 non-null   uint16        \n",
      " 22  day_of_year          9988 non-null   uint16        \n",
      " 23  day_of_week          9988 non-null   uint8         \n",
      " 24  store_type           9988 non-null   category      \n",
      "dtypes: category(3), datetime64[ns](1), float32(6), int32(3), object(5), uint16(4), uint8(3)\n",
      "memory usage: 1.1+ MB\n"
     ]
    }
   ],
   "source": [
    "ul.info()"
   ]
  },
  {
   "cell_type": "code",
   "execution_count": 163,
   "id": "2cf7d74d",
   "metadata": {},
   "outputs": [
    {
     "name": "stdout",
     "output_type": "stream",
     "text": [
      "address 168\n",
      "city 87\n",
      "county 71\n",
      "vendor_name 145\n"
     ]
    },
    {
     "ename": "TypeError",
     "evalue": "unhashable type: 'list'",
     "output_type": "error",
     "traceback": [
      "\u001b[1;31m---------------------------------------------------------------------------\u001b[0m",
      "\u001b[1;31mTypeError\u001b[0m                                 Traceback (most recent call last)",
      "\u001b[1;32m<ipython-input-163-e21f6a17a510>\u001b[0m in \u001b[0;36m<module>\u001b[1;34m\u001b[0m\n\u001b[0;32m      3\u001b[0m \u001b[1;32mfor\u001b[0m \u001b[0mcolumn\u001b[0m \u001b[1;32min\u001b[0m \u001b[0mul\u001b[0m\u001b[1;33m:\u001b[0m\u001b[1;33m\u001b[0m\u001b[1;33m\u001b[0m\u001b[0m\n\u001b[0;32m      4\u001b[0m     \u001b[1;32mif\u001b[0m \u001b[0mul\u001b[0m\u001b[1;33m[\u001b[0m\u001b[0mcolumn\u001b[0m\u001b[1;33m]\u001b[0m\u001b[1;33m.\u001b[0m\u001b[0mdtype\u001b[0m \u001b[1;33m==\u001b[0m \u001b[1;34m\"object\"\u001b[0m\u001b[1;33m:\u001b[0m\u001b[1;33m\u001b[0m\u001b[1;33m\u001b[0m\u001b[0m\n\u001b[1;32m----> 5\u001b[1;33m         \u001b[0mprint\u001b[0m\u001b[1;33m(\u001b[0m\u001b[0mcolumn\u001b[0m\u001b[1;33m,\u001b[0m\u001b[0mul\u001b[0m\u001b[1;33m[\u001b[0m\u001b[0mcolumn\u001b[0m\u001b[1;33m]\u001b[0m\u001b[1;33m.\u001b[0m\u001b[0mnunique\u001b[0m\u001b[1;33m(\u001b[0m\u001b[1;33m)\u001b[0m\u001b[1;33m)\u001b[0m\u001b[1;33m\u001b[0m\u001b[1;33m\u001b[0m\u001b[0m\n\u001b[0m",
      "\u001b[1;32mC:\\Anaconda\\lib\\site-packages\\pandas\\core\\base.py\u001b[0m in \u001b[0;36mnunique\u001b[1;34m(self, dropna)\u001b[0m\n\u001b[0;32m   1025\u001b[0m         \u001b[1;36m4\u001b[0m\u001b[1;33m\u001b[0m\u001b[1;33m\u001b[0m\u001b[0m\n\u001b[0;32m   1026\u001b[0m         \"\"\"\n\u001b[1;32m-> 1027\u001b[1;33m         \u001b[0muniqs\u001b[0m \u001b[1;33m=\u001b[0m \u001b[0mself\u001b[0m\u001b[1;33m.\u001b[0m\u001b[0munique\u001b[0m\u001b[1;33m(\u001b[0m\u001b[1;33m)\u001b[0m\u001b[1;33m\u001b[0m\u001b[1;33m\u001b[0m\u001b[0m\n\u001b[0m\u001b[0;32m   1028\u001b[0m         \u001b[1;32mif\u001b[0m \u001b[0mdropna\u001b[0m\u001b[1;33m:\u001b[0m\u001b[1;33m\u001b[0m\u001b[1;33m\u001b[0m\u001b[0m\n\u001b[0;32m   1029\u001b[0m             \u001b[0muniqs\u001b[0m \u001b[1;33m=\u001b[0m \u001b[0mremove_na_arraylike\u001b[0m\u001b[1;33m(\u001b[0m\u001b[0muniqs\u001b[0m\u001b[1;33m)\u001b[0m\u001b[1;33m\u001b[0m\u001b[1;33m\u001b[0m\u001b[0m\n",
      "\u001b[1;32mC:\\Anaconda\\lib\\site-packages\\pandas\\core\\series.py\u001b[0m in \u001b[0;36munique\u001b[1;34m(self)\u001b[0m\n\u001b[0;32m   2086\u001b[0m         \u001b[0mCategories\u001b[0m \u001b[1;33m(\u001b[0m\u001b[1;36m3\u001b[0m\u001b[1;33m,\u001b[0m \u001b[0mobject\u001b[0m\u001b[1;33m)\u001b[0m\u001b[1;33m:\u001b[0m \u001b[1;33m[\u001b[0m\u001b[1;34m'a'\u001b[0m \u001b[1;33m<\u001b[0m \u001b[1;34m'b'\u001b[0m \u001b[1;33m<\u001b[0m \u001b[1;34m'c'\u001b[0m\u001b[1;33m]\u001b[0m\u001b[1;33m\u001b[0m\u001b[1;33m\u001b[0m\u001b[0m\n\u001b[0;32m   2087\u001b[0m         \"\"\"\n\u001b[1;32m-> 2088\u001b[1;33m         \u001b[1;32mreturn\u001b[0m \u001b[0msuper\u001b[0m\u001b[1;33m(\u001b[0m\u001b[1;33m)\u001b[0m\u001b[1;33m.\u001b[0m\u001b[0munique\u001b[0m\u001b[1;33m(\u001b[0m\u001b[1;33m)\u001b[0m\u001b[1;33m\u001b[0m\u001b[1;33m\u001b[0m\u001b[0m\n\u001b[0m\u001b[0;32m   2089\u001b[0m \u001b[1;33m\u001b[0m\u001b[0m\n\u001b[0;32m   2090\u001b[0m     \u001b[1;33m@\u001b[0m\u001b[0moverload\u001b[0m\u001b[1;33m\u001b[0m\u001b[1;33m\u001b[0m\u001b[0m\n",
      "\u001b[1;32mC:\\Anaconda\\lib\\site-packages\\pandas\\core\\base.py\u001b[0m in \u001b[0;36munique\u001b[1;34m(self)\u001b[0m\n\u001b[0;32m    987\u001b[0m                     \u001b[0mresult\u001b[0m \u001b[1;33m=\u001b[0m \u001b[0mnp\u001b[0m\u001b[1;33m.\u001b[0m\u001b[0masarray\u001b[0m\u001b[1;33m(\u001b[0m\u001b[0mresult\u001b[0m\u001b[1;33m)\u001b[0m\u001b[1;33m\u001b[0m\u001b[1;33m\u001b[0m\u001b[0m\n\u001b[0;32m    988\u001b[0m         \u001b[1;32melse\u001b[0m\u001b[1;33m:\u001b[0m\u001b[1;33m\u001b[0m\u001b[1;33m\u001b[0m\u001b[0m\n\u001b[1;32m--> 989\u001b[1;33m             \u001b[0mresult\u001b[0m \u001b[1;33m=\u001b[0m \u001b[0munique1d\u001b[0m\u001b[1;33m(\u001b[0m\u001b[0mvalues\u001b[0m\u001b[1;33m)\u001b[0m\u001b[1;33m\u001b[0m\u001b[1;33m\u001b[0m\u001b[0m\n\u001b[0m\u001b[0;32m    990\u001b[0m \u001b[1;33m\u001b[0m\u001b[0m\n\u001b[0;32m    991\u001b[0m         \u001b[1;32mreturn\u001b[0m \u001b[0mresult\u001b[0m\u001b[1;33m\u001b[0m\u001b[1;33m\u001b[0m\u001b[0m\n",
      "\u001b[1;32mC:\\Anaconda\\lib\\site-packages\\pandas\\core\\algorithms.py\u001b[0m in \u001b[0;36munique\u001b[1;34m(values)\u001b[0m\n\u001b[0;32m    438\u001b[0m \u001b[1;33m\u001b[0m\u001b[0m\n\u001b[0;32m    439\u001b[0m     \u001b[0mtable\u001b[0m \u001b[1;33m=\u001b[0m \u001b[0mhtable\u001b[0m\u001b[1;33m(\u001b[0m\u001b[0mlen\u001b[0m\u001b[1;33m(\u001b[0m\u001b[0mvalues\u001b[0m\u001b[1;33m)\u001b[0m\u001b[1;33m)\u001b[0m\u001b[1;33m\u001b[0m\u001b[1;33m\u001b[0m\u001b[0m\n\u001b[1;32m--> 440\u001b[1;33m     \u001b[0muniques\u001b[0m \u001b[1;33m=\u001b[0m \u001b[0mtable\u001b[0m\u001b[1;33m.\u001b[0m\u001b[0munique\u001b[0m\u001b[1;33m(\u001b[0m\u001b[0mvalues\u001b[0m\u001b[1;33m)\u001b[0m\u001b[1;33m\u001b[0m\u001b[1;33m\u001b[0m\u001b[0m\n\u001b[0m\u001b[0;32m    441\u001b[0m     \u001b[0muniques\u001b[0m \u001b[1;33m=\u001b[0m \u001b[0m_reconstruct_data\u001b[0m\u001b[1;33m(\u001b[0m\u001b[0muniques\u001b[0m\u001b[1;33m,\u001b[0m \u001b[0moriginal\u001b[0m\u001b[1;33m.\u001b[0m\u001b[0mdtype\u001b[0m\u001b[1;33m,\u001b[0m \u001b[0moriginal\u001b[0m\u001b[1;33m)\u001b[0m\u001b[1;33m\u001b[0m\u001b[1;33m\u001b[0m\u001b[0m\n\u001b[0;32m    442\u001b[0m     \u001b[1;32mreturn\u001b[0m \u001b[0muniques\u001b[0m\u001b[1;33m\u001b[0m\u001b[1;33m\u001b[0m\u001b[0m\n",
      "\u001b[1;32mpandas\\_libs\\hashtable_class_helper.pxi\u001b[0m in \u001b[0;36mpandas._libs.hashtable.PyObjectHashTable.unique\u001b[1;34m()\u001b[0m\n",
      "\u001b[1;32mpandas\\_libs\\hashtable_class_helper.pxi\u001b[0m in \u001b[0;36mpandas._libs.hashtable.PyObjectHashTable._unique\u001b[1;34m()\u001b[0m\n",
      "\u001b[1;31mTypeError\u001b[0m: unhashable type: 'list'"
     ]
    }
   ],
   "source": [
    "#Now we take a look at categorical data value counts\n",
    "#df.select_dtypes('object').value_counts()\n",
    "for column in ul:\n",
    "    if ul[column].dtype == \"object\":\n",
    "        print(column,ul[column].nunique())"
   ]
  },
  {
   "cell_type": "code",
   "execution_count": 164,
   "id": "95e6048e",
   "metadata": {},
   "outputs": [],
   "source": [
    "#Since column 'coordinates' are a list, we use the following method to count unique values:\n",
    "def nunique_list(list):\n",
    "    import numpy as np\n",
    "    return(len(np.unique(np.array(list))))"
   ]
  },
  {
   "cell_type": "code",
   "execution_count": 165,
   "id": "c78c5a58",
   "metadata": {},
   "outputs": [
    {
     "data": {
      "text/plain": [
       "229"
      ]
     },
     "execution_count": 165,
     "metadata": {},
     "output_type": "execute_result"
    }
   ],
   "source": [
    "nunique_list(ul['coordinates'])"
   ]
  },
  {
   "cell_type": "code",
   "execution_count": 166,
   "id": "89a7d9c3",
   "metadata": {},
   "outputs": [],
   "source": [
    "#Because these object columns have too many unique values, and they are dubplicates with other columns, for example, vendor\n",
    "#name could also be represented by vendor number, address, city, county, and coordinates can be representaed by\n",
    "#zip code and store number (and we will do separate location analysis) we will drop them"
   ]
  },
  {
   "cell_type": "code",
   "execution_count": 167,
   "id": "dd6d705a",
   "metadata": {},
   "outputs": [
    {
     "data": {
      "text/plain": [
       "item_description    1903\n",
       "liquor_type            9\n",
       "store_type             5\n",
       "dtype: int64"
      ]
     },
     "execution_count": 167,
     "metadata": {},
     "output_type": "execute_result"
    }
   ],
   "source": [
    "ul.select_dtypes('category').nunique()"
   ]
  },
  {
   "cell_type": "code",
   "execution_count": 168,
   "id": "847f3c3f",
   "metadata": {},
   "outputs": [],
   "source": [
    "#we will drop item_description column for sure."
   ]
  },
  {
   "cell_type": "code",
   "execution_count": 169,
   "id": "59f46f4e",
   "metadata": {},
   "outputs": [
    {
     "data": {
      "text/html": [
       "<div>\n",
       "<style scoped>\n",
       "    .dataframe tbody tr th:only-of-type {\n",
       "        vertical-align: middle;\n",
       "    }\n",
       "\n",
       "    .dataframe tbody tr th {\n",
       "        vertical-align: top;\n",
       "    }\n",
       "\n",
       "    .dataframe thead th {\n",
       "        text-align: right;\n",
       "    }\n",
       "</style>\n",
       "<table border=\"1\" class=\"dataframe\">\n",
       "  <thead>\n",
       "    <tr style=\"text-align: right;\">\n",
       "      <th></th>\n",
       "      <th>store_number</th>\n",
       "      <th>zip_code</th>\n",
       "      <th>vendor_number</th>\n",
       "      <th>pack</th>\n",
       "      <th>bottle_volume_ml</th>\n",
       "      <th>state_bottle_cost</th>\n",
       "      <th>state_bottle_retail</th>\n",
       "      <th>bottles_sold</th>\n",
       "      <th>sale_dollars</th>\n",
       "      <th>volume_sold_liters</th>\n",
       "      <th>profit_per_bottle</th>\n",
       "      <th>profit_per_sale</th>\n",
       "      <th>month</th>\n",
       "      <th>year</th>\n",
       "      <th>day_of_year</th>\n",
       "      <th>day_of_week</th>\n",
       "    </tr>\n",
       "  </thead>\n",
       "  <tbody>\n",
       "    <tr>\n",
       "      <th>count</th>\n",
       "      <td>9988.000000</td>\n",
       "      <td>9988.000000</td>\n",
       "      <td>9988.000000</td>\n",
       "      <td>9988.000000</td>\n",
       "      <td>9988.000000</td>\n",
       "      <td>9988.000000</td>\n",
       "      <td>9988.000000</td>\n",
       "      <td>9988.000000</td>\n",
       "      <td>9988.000000</td>\n",
       "      <td>9988.000000</td>\n",
       "      <td>9988.000000</td>\n",
       "      <td>9988.000000</td>\n",
       "      <td>9988.000000</td>\n",
       "      <td>9988.000000</td>\n",
       "      <td>9988.000000</td>\n",
       "      <td>9988.000000</td>\n",
       "    </tr>\n",
       "    <tr>\n",
       "      <th>mean</th>\n",
       "      <td>2596.559271</td>\n",
       "      <td>51348.656187</td>\n",
       "      <td>266.808771</td>\n",
       "      <td>11.520124</td>\n",
       "      <td>917.355827</td>\n",
       "      <td>10.541506</td>\n",
       "      <td>15.825230</td>\n",
       "      <td>10.312775</td>\n",
       "      <td>148.215469</td>\n",
       "      <td>9.504123</td>\n",
       "      <td>5.283767</td>\n",
       "      <td>49.487629</td>\n",
       "      <td>6.626652</td>\n",
       "      <td>2016.670404</td>\n",
       "      <td>186.397677</td>\n",
       "      <td>1.684421</td>\n",
       "    </tr>\n",
       "    <tr>\n",
       "      <th>std</th>\n",
       "      <td>113.157592</td>\n",
       "      <td>1008.072176</td>\n",
       "      <td>143.227125</td>\n",
       "      <td>6.898388</td>\n",
       "      <td>485.460359</td>\n",
       "      <td>7.956723</td>\n",
       "      <td>11.932923</td>\n",
       "      <td>25.627987</td>\n",
       "      <td>440.974976</td>\n",
       "      <td>28.328539</td>\n",
       "      <td>3.978327</td>\n",
       "      <td>146.759949</td>\n",
       "      <td>3.467233</td>\n",
       "      <td>2.893576</td>\n",
       "      <td>105.985748</td>\n",
       "      <td>1.332456</td>\n",
       "    </tr>\n",
       "    <tr>\n",
       "      <th>min</th>\n",
       "      <td>2501.000000</td>\n",
       "      <td>50009.000000</td>\n",
       "      <td>35.000000</td>\n",
       "      <td>1.000000</td>\n",
       "      <td>50.000000</td>\n",
       "      <td>0.000000</td>\n",
       "      <td>0.000000</td>\n",
       "      <td>1.000000</td>\n",
       "      <td>0.000000</td>\n",
       "      <td>0.050000</td>\n",
       "      <td>-2.990000</td>\n",
       "      <td>-8.970000</td>\n",
       "      <td>1.000000</td>\n",
       "      <td>2012.000000</td>\n",
       "      <td>2.000000</td>\n",
       "      <td>0.000000</td>\n",
       "    </tr>\n",
       "    <tr>\n",
       "      <th>25%</th>\n",
       "      <td>2556.000000</td>\n",
       "      <td>50320.000000</td>\n",
       "      <td>115.000000</td>\n",
       "      <td>6.000000</td>\n",
       "      <td>750.000000</td>\n",
       "      <td>6.210000</td>\n",
       "      <td>9.395000</td>\n",
       "      <td>3.000000</td>\n",
       "      <td>37.139999</td>\n",
       "      <td>1.880000</td>\n",
       "      <td>3.150000</td>\n",
       "      <td>12.360000</td>\n",
       "      <td>4.000000</td>\n",
       "      <td>2014.000000</td>\n",
       "      <td>95.750000</td>\n",
       "      <td>1.000000</td>\n",
       "    </tr>\n",
       "    <tr>\n",
       "      <th>50%</th>\n",
       "      <td>2597.000000</td>\n",
       "      <td>51201.000000</td>\n",
       "      <td>260.000000</td>\n",
       "      <td>12.000000</td>\n",
       "      <td>750.000000</td>\n",
       "      <td>8.500000</td>\n",
       "      <td>12.740000</td>\n",
       "      <td>6.000000</td>\n",
       "      <td>78.480003</td>\n",
       "      <td>6.000000</td>\n",
       "      <td>4.250000</td>\n",
       "      <td>26.160000</td>\n",
       "      <td>7.000000</td>\n",
       "      <td>2017.000000</td>\n",
       "      <td>184.000000</td>\n",
       "      <td>2.000000</td>\n",
       "    </tr>\n",
       "    <tr>\n",
       "      <th>75%</th>\n",
       "      <td>2633.000000</td>\n",
       "      <td>52403.000000</td>\n",
       "      <td>389.000000</td>\n",
       "      <td>12.000000</td>\n",
       "      <td>1000.000000</td>\n",
       "      <td>12.800000</td>\n",
       "      <td>19.202500</td>\n",
       "      <td>12.000000</td>\n",
       "      <td>148.440002</td>\n",
       "      <td>10.500000</td>\n",
       "      <td>6.457500</td>\n",
       "      <td>49.500000</td>\n",
       "      <td>10.000000</td>\n",
       "      <td>2019.000000</td>\n",
       "      <td>278.000000</td>\n",
       "      <td>3.000000</td>\n",
       "    </tr>\n",
       "    <tr>\n",
       "      <th>max</th>\n",
       "      <td>6243.000000</td>\n",
       "      <td>57222.000000</td>\n",
       "      <td>978.000000</td>\n",
       "      <td>48.000000</td>\n",
       "      <td>3000.000000</td>\n",
       "      <td>175.270004</td>\n",
       "      <td>262.910004</td>\n",
       "      <td>672.000000</td>\n",
       "      <td>17820.000000</td>\n",
       "      <td>1050.000000</td>\n",
       "      <td>87.639999</td>\n",
       "      <td>5940.000000</td>\n",
       "      <td>12.000000</td>\n",
       "      <td>2022.000000</td>\n",
       "      <td>366.000000</td>\n",
       "      <td>6.000000</td>\n",
       "    </tr>\n",
       "  </tbody>\n",
       "</table>\n",
       "</div>"
      ],
      "text/plain": [
       "       store_number      zip_code  vendor_number         pack  \\\n",
       "count   9988.000000   9988.000000    9988.000000  9988.000000   \n",
       "mean    2596.559271  51348.656187     266.808771    11.520124   \n",
       "std      113.157592   1008.072176     143.227125     6.898388   \n",
       "min     2501.000000  50009.000000      35.000000     1.000000   \n",
       "25%     2556.000000  50320.000000     115.000000     6.000000   \n",
       "50%     2597.000000  51201.000000     260.000000    12.000000   \n",
       "75%     2633.000000  52403.000000     389.000000    12.000000   \n",
       "max     6243.000000  57222.000000     978.000000    48.000000   \n",
       "\n",
       "       bottle_volume_ml  state_bottle_cost  state_bottle_retail  bottles_sold  \\\n",
       "count       9988.000000        9988.000000          9988.000000   9988.000000   \n",
       "mean         917.355827          10.541506            15.825230     10.312775   \n",
       "std          485.460359           7.956723            11.932923     25.627987   \n",
       "min           50.000000           0.000000             0.000000      1.000000   \n",
       "25%          750.000000           6.210000             9.395000      3.000000   \n",
       "50%          750.000000           8.500000            12.740000      6.000000   \n",
       "75%         1000.000000          12.800000            19.202500     12.000000   \n",
       "max         3000.000000         175.270004           262.910004    672.000000   \n",
       "\n",
       "       sale_dollars  volume_sold_liters  profit_per_bottle  profit_per_sale  \\\n",
       "count   9988.000000         9988.000000        9988.000000      9988.000000   \n",
       "mean     148.215469            9.504123           5.283767        49.487629   \n",
       "std      440.974976           28.328539           3.978327       146.759949   \n",
       "min        0.000000            0.050000          -2.990000        -8.970000   \n",
       "25%       37.139999            1.880000           3.150000        12.360000   \n",
       "50%       78.480003            6.000000           4.250000        26.160000   \n",
       "75%      148.440002           10.500000           6.457500        49.500000   \n",
       "max    17820.000000         1050.000000          87.639999      5940.000000   \n",
       "\n",
       "             month         year  day_of_year  day_of_week  \n",
       "count  9988.000000  9988.000000  9988.000000  9988.000000  \n",
       "mean      6.626652  2016.670404   186.397677     1.684421  \n",
       "std       3.467233     2.893576   105.985748     1.332456  \n",
       "min       1.000000  2012.000000     2.000000     0.000000  \n",
       "25%       4.000000  2014.000000    95.750000     1.000000  \n",
       "50%       7.000000  2017.000000   184.000000     2.000000  \n",
       "75%      10.000000  2019.000000   278.000000     3.000000  \n",
       "max      12.000000  2022.000000   366.000000     6.000000  "
      ]
     },
     "execution_count": 169,
     "metadata": {},
     "output_type": "execute_result"
    }
   ],
   "source": [
    "ul.describe()  "
   ]
  },
  {
   "cell_type": "code",
   "execution_count": 170,
   "id": "18517d87",
   "metadata": {},
   "outputs": [
    {
     "data": {
      "text/plain": [
       "date                    0\n",
       "store_number            0\n",
       "address                 0\n",
       "city                    0\n",
       "zip_code                0\n",
       "county                 13\n",
       "vendor_number           0\n",
       "vendor_name             0\n",
       "item_description        0\n",
       "pack                    0\n",
       "bottle_volume_ml        0\n",
       "state_bottle_cost       0\n",
       "state_bottle_retail     0\n",
       "bottles_sold            0\n",
       "sale_dollars            0\n",
       "volume_sold_liters      0\n",
       "profit_per_bottle       0\n",
       "profit_per_sale         0\n",
       "coordinates             0\n",
       "liquor_type             0\n",
       "month                   0\n",
       "year                    0\n",
       "day_of_year             0\n",
       "day_of_week             0\n",
       "store_type              0\n",
       "dtype: int64"
      ]
     },
     "execution_count": 170,
     "metadata": {},
     "output_type": "execute_result"
    }
   ],
   "source": [
    "#And we check to make sure data doesnt contain missing values\n",
    "ul.isna().sum() "
   ]
  },
  {
   "cell_type": "code",
   "execution_count": 173,
   "id": "3d352e63",
   "metadata": {},
   "outputs": [],
   "source": [
    "#Remove rows for which the county column value is null\n",
    "# ul=df.dropna(subset=[col])\n",
    "# ul.isna().sum()"
   ]
  },
  {
   "cell_type": "code",
   "execution_count": 174,
   "id": "9047be9c",
   "metadata": {},
   "outputs": [],
   "source": [
    "ul.drop(['address','city','county','vendor_name','coordinates','item_description','date','day_of_year','day_of_week',\n",
    "         'month','year'],axis=1,inplace=True) #We also drop anything related to time because: 1. We do time series analysis\n",
    "# separately. 2.the clustering algorithm needs the assumption that the rows in the data represent the unique observation \n",
    "# observed in a certain time period"
   ]
  },
  {
   "cell_type": "code",
   "execution_count": 184,
   "id": "1717b159",
   "metadata": {},
   "outputs": [
    {
     "name": "stdout",
     "output_type": "stream",
     "text": [
      "Categorical columns ['liquor_type', 'store_type']\n",
      "Categorical columns position  : [12, 13]\n"
     ]
    }
   ],
   "source": [
    "catColumnsPos= [ul.columns.get_loc(col) for col in (list(ul.select_dtypes('category').columns)) or \n",
    "                (list(ul.select_dtypes('object').columns))]\n",
    "print('Categorical columns {}'.format(list(ul.select_dtypes('category').columns) or \n",
    "                                      listlist(ul.select_dtypes('object').columns)))\n",
    "print('Categorical columns position  : {}'.format(catColumnsPos))"
   ]
  },
  {
   "cell_type": "code",
   "execution_count": 185,
   "id": "5682558b",
   "metadata": {},
   "outputs": [
    {
     "data": {
      "text/plain": [
       "array([[2647, 52411, 370, ..., 15.0, 'vodka', 'supermarket'],\n",
       "       [2656, 51632, 35, ..., 7.539999961853027, 'rum', 'supermarket'],\n",
       "       [2621, 51105, 395, ..., 20.079999923706055, 'other',\n",
       "        'supermarket'],\n",
       "       ...,\n",
       "       [2593, 51401, 421, ..., 51.959999084472656, 'schnapps',\n",
       "        'supermarket'],\n",
       "       [2521, 50265, 260, ..., 19.0, 'vodka', 'drug store'],\n",
       "       [2548, 50009, 205, ..., 5.25, 'vodka', 'supermarket']],\n",
       "      dtype=object)"
      ]
     },
     "execution_count": 185,
     "metadata": {},
     "output_type": "execute_result"
    }
   ],
   "source": [
    "#Convert data frame to the matrix to help kmodes module run the algorithm\n",
    "ulMatrix=ul.to_numpy()\n",
    "ulMatrix"
   ]
  },
  {
   "cell_type": "code",
   "execution_count": 186,
   "id": "ccfd7121",
   "metadata": {},
   "outputs": [
    {
     "name": "stdout",
     "output_type": "stream",
     "text": [
      "Cluster initiation: 1\n",
      "Cluster initiation: 2\n",
      "Cluster initiation: 3\n",
      "Cluster initiation: 4\n",
      "Cluster initiation: 5\n",
      "Cluster initiation: 6\n",
      "Cluster initiation: 7\n",
      "Cluster initiation: 8\n",
      "Cluster initiation: 9\n"
     ]
    },
    {
     "ename": "ValueError",
     "evalue": "All arrays must be of the same length",
     "output_type": "error",
     "traceback": [
      "\u001b[1;31m---------------------------------------------------------------------------\u001b[0m",
      "\u001b[1;31mValueError\u001b[0m                                Traceback (most recent call last)",
      "\u001b[1;32m<ipython-input-186-bfb7203a77ed>\u001b[0m in \u001b[0;36m<module>\u001b[1;34m\u001b[0m\n\u001b[0;32m     12\u001b[0m \u001b[1;33m\u001b[0m\u001b[0m\n\u001b[0;32m     13\u001b[0m \u001b[1;31m# Converting the results into a dataframe\u001b[0m\u001b[1;33m\u001b[0m\u001b[1;33m\u001b[0m\u001b[1;33m\u001b[0m\u001b[0m\n\u001b[1;32m---> 14\u001b[1;33m \u001b[0mul_cost\u001b[0m \u001b[1;33m=\u001b[0m \u001b[0mpd\u001b[0m\u001b[1;33m.\u001b[0m\u001b[0mDataFrame\u001b[0m\u001b[1;33m(\u001b[0m\u001b[1;33m{\u001b[0m\u001b[1;34m'Cluster'\u001b[0m\u001b[1;33m:\u001b[0m\u001b[0mrange\u001b[0m\u001b[1;33m(\u001b[0m\u001b[1;36m1\u001b[0m\u001b[1;33m,\u001b[0m \u001b[1;36m6\u001b[0m\u001b[1;33m)\u001b[0m\u001b[1;33m,\u001b[0m \u001b[1;34m'Cost'\u001b[0m\u001b[1;33m:\u001b[0m\u001b[0mcost\u001b[0m\u001b[1;33m}\u001b[0m\u001b[1;33m)\u001b[0m\u001b[1;33m\u001b[0m\u001b[1;33m\u001b[0m\u001b[0m\n\u001b[0m",
      "\u001b[1;32mC:\\Anaconda\\lib\\site-packages\\pandas\\core\\frame.py\u001b[0m in \u001b[0;36m__init__\u001b[1;34m(self, data, index, columns, dtype, copy)\u001b[0m\n\u001b[0;32m    634\u001b[0m         \u001b[1;32melif\u001b[0m \u001b[0misinstance\u001b[0m\u001b[1;33m(\u001b[0m\u001b[0mdata\u001b[0m\u001b[1;33m,\u001b[0m \u001b[0mdict\u001b[0m\u001b[1;33m)\u001b[0m\u001b[1;33m:\u001b[0m\u001b[1;33m\u001b[0m\u001b[1;33m\u001b[0m\u001b[0m\n\u001b[0;32m    635\u001b[0m             \u001b[1;31m# GH#38939 de facto copy defaults to False only in non-dict cases\u001b[0m\u001b[1;33m\u001b[0m\u001b[1;33m\u001b[0m\u001b[1;33m\u001b[0m\u001b[0m\n\u001b[1;32m--> 636\u001b[1;33m             \u001b[0mmgr\u001b[0m \u001b[1;33m=\u001b[0m \u001b[0mdict_to_mgr\u001b[0m\u001b[1;33m(\u001b[0m\u001b[0mdata\u001b[0m\u001b[1;33m,\u001b[0m \u001b[0mindex\u001b[0m\u001b[1;33m,\u001b[0m \u001b[0mcolumns\u001b[0m\u001b[1;33m,\u001b[0m \u001b[0mdtype\u001b[0m\u001b[1;33m=\u001b[0m\u001b[0mdtype\u001b[0m\u001b[1;33m,\u001b[0m \u001b[0mcopy\u001b[0m\u001b[1;33m=\u001b[0m\u001b[0mcopy\u001b[0m\u001b[1;33m,\u001b[0m \u001b[0mtyp\u001b[0m\u001b[1;33m=\u001b[0m\u001b[0mmanager\u001b[0m\u001b[1;33m)\u001b[0m\u001b[1;33m\u001b[0m\u001b[1;33m\u001b[0m\u001b[0m\n\u001b[0m\u001b[0;32m    637\u001b[0m         \u001b[1;32melif\u001b[0m \u001b[0misinstance\u001b[0m\u001b[1;33m(\u001b[0m\u001b[0mdata\u001b[0m\u001b[1;33m,\u001b[0m \u001b[0mma\u001b[0m\u001b[1;33m.\u001b[0m\u001b[0mMaskedArray\u001b[0m\u001b[1;33m)\u001b[0m\u001b[1;33m:\u001b[0m\u001b[1;33m\u001b[0m\u001b[1;33m\u001b[0m\u001b[0m\n\u001b[0;32m    638\u001b[0m             \u001b[1;32mimport\u001b[0m \u001b[0mnumpy\u001b[0m\u001b[1;33m.\u001b[0m\u001b[0mma\u001b[0m\u001b[1;33m.\u001b[0m\u001b[0mmrecords\u001b[0m \u001b[1;32mas\u001b[0m \u001b[0mmrecords\u001b[0m\u001b[1;33m\u001b[0m\u001b[1;33m\u001b[0m\u001b[0m\n",
      "\u001b[1;32mC:\\Anaconda\\lib\\site-packages\\pandas\\core\\internals\\construction.py\u001b[0m in \u001b[0;36mdict_to_mgr\u001b[1;34m(data, index, columns, dtype, typ, copy)\u001b[0m\n\u001b[0;32m    500\u001b[0m         \u001b[1;31m# TODO: can we get rid of the dt64tz special case above?\u001b[0m\u001b[1;33m\u001b[0m\u001b[1;33m\u001b[0m\u001b[1;33m\u001b[0m\u001b[0m\n\u001b[0;32m    501\u001b[0m \u001b[1;33m\u001b[0m\u001b[0m\n\u001b[1;32m--> 502\u001b[1;33m     \u001b[1;32mreturn\u001b[0m \u001b[0marrays_to_mgr\u001b[0m\u001b[1;33m(\u001b[0m\u001b[0marrays\u001b[0m\u001b[1;33m,\u001b[0m \u001b[0mcolumns\u001b[0m\u001b[1;33m,\u001b[0m \u001b[0mindex\u001b[0m\u001b[1;33m,\u001b[0m \u001b[0mdtype\u001b[0m\u001b[1;33m=\u001b[0m\u001b[0mdtype\u001b[0m\u001b[1;33m,\u001b[0m \u001b[0mtyp\u001b[0m\u001b[1;33m=\u001b[0m\u001b[0mtyp\u001b[0m\u001b[1;33m,\u001b[0m \u001b[0mconsolidate\u001b[0m\u001b[1;33m=\u001b[0m\u001b[0mcopy\u001b[0m\u001b[1;33m)\u001b[0m\u001b[1;33m\u001b[0m\u001b[1;33m\u001b[0m\u001b[0m\n\u001b[0m\u001b[0;32m    503\u001b[0m \u001b[1;33m\u001b[0m\u001b[0m\n\u001b[0;32m    504\u001b[0m \u001b[1;33m\u001b[0m\u001b[0m\n",
      "\u001b[1;32mC:\\Anaconda\\lib\\site-packages\\pandas\\core\\internals\\construction.py\u001b[0m in \u001b[0;36marrays_to_mgr\u001b[1;34m(arrays, columns, index, dtype, verify_integrity, typ, consolidate)\u001b[0m\n\u001b[0;32m    118\u001b[0m         \u001b[1;31m# figure out the index, if necessary\u001b[0m\u001b[1;33m\u001b[0m\u001b[1;33m\u001b[0m\u001b[1;33m\u001b[0m\u001b[0m\n\u001b[0;32m    119\u001b[0m         \u001b[1;32mif\u001b[0m \u001b[0mindex\u001b[0m \u001b[1;32mis\u001b[0m \u001b[1;32mNone\u001b[0m\u001b[1;33m:\u001b[0m\u001b[1;33m\u001b[0m\u001b[1;33m\u001b[0m\u001b[0m\n\u001b[1;32m--> 120\u001b[1;33m             \u001b[0mindex\u001b[0m \u001b[1;33m=\u001b[0m \u001b[0m_extract_index\u001b[0m\u001b[1;33m(\u001b[0m\u001b[0marrays\u001b[0m\u001b[1;33m)\u001b[0m\u001b[1;33m\u001b[0m\u001b[1;33m\u001b[0m\u001b[0m\n\u001b[0m\u001b[0;32m    121\u001b[0m         \u001b[1;32melse\u001b[0m\u001b[1;33m:\u001b[0m\u001b[1;33m\u001b[0m\u001b[1;33m\u001b[0m\u001b[0m\n\u001b[0;32m    122\u001b[0m             \u001b[0mindex\u001b[0m \u001b[1;33m=\u001b[0m \u001b[0mensure_index\u001b[0m\u001b[1;33m(\u001b[0m\u001b[0mindex\u001b[0m\u001b[1;33m)\u001b[0m\u001b[1;33m\u001b[0m\u001b[1;33m\u001b[0m\u001b[0m\n",
      "\u001b[1;32mC:\\Anaconda\\lib\\site-packages\\pandas\\core\\internals\\construction.py\u001b[0m in \u001b[0;36m_extract_index\u001b[1;34m(data)\u001b[0m\n\u001b[0;32m    672\u001b[0m             \u001b[0mlengths\u001b[0m \u001b[1;33m=\u001b[0m \u001b[0mlist\u001b[0m\u001b[1;33m(\u001b[0m\u001b[0mset\u001b[0m\u001b[1;33m(\u001b[0m\u001b[0mraw_lengths\u001b[0m\u001b[1;33m)\u001b[0m\u001b[1;33m)\u001b[0m\u001b[1;33m\u001b[0m\u001b[1;33m\u001b[0m\u001b[0m\n\u001b[0;32m    673\u001b[0m             \u001b[1;32mif\u001b[0m \u001b[0mlen\u001b[0m\u001b[1;33m(\u001b[0m\u001b[0mlengths\u001b[0m\u001b[1;33m)\u001b[0m \u001b[1;33m>\u001b[0m \u001b[1;36m1\u001b[0m\u001b[1;33m:\u001b[0m\u001b[1;33m\u001b[0m\u001b[1;33m\u001b[0m\u001b[0m\n\u001b[1;32m--> 674\u001b[1;33m                 \u001b[1;32mraise\u001b[0m \u001b[0mValueError\u001b[0m\u001b[1;33m(\u001b[0m\u001b[1;34m\"All arrays must be of the same length\"\u001b[0m\u001b[1;33m)\u001b[0m\u001b[1;33m\u001b[0m\u001b[1;33m\u001b[0m\u001b[0m\n\u001b[0m\u001b[0;32m    675\u001b[0m \u001b[1;33m\u001b[0m\u001b[0m\n\u001b[0;32m    676\u001b[0m             \u001b[1;32mif\u001b[0m \u001b[0mhave_dicts\u001b[0m\u001b[1;33m:\u001b[0m\u001b[1;33m\u001b[0m\u001b[1;33m\u001b[0m\u001b[0m\n",
      "\u001b[1;31mValueError\u001b[0m: All arrays must be of the same length"
     ]
    }
   ],
   "source": [
    "#Using Elbow method to determine the optimal number of clusters for K-Prototype clusters\n",
    "\n",
    "cost = []\n",
    "for cluster in range(1, 10):\n",
    "    try:\n",
    "        kprototype = KPrototypes(n_jobs = -1, n_clusters = cluster, init = 'Huang', random_state = 0)\n",
    "        kprototype.fit_predict(ulMatrix, categorical = catColumnsPos)\n",
    "        cost.append(kprototype.cost_)\n",
    "        print('Cluster initiation: {}'.format(cluster))\n",
    "    except:\n",
    "        break"
   ]
  },
  {
   "cell_type": "code",
   "execution_count": 187,
   "id": "901caebc",
   "metadata": {},
   "outputs": [],
   "source": [
    "#Converting the results into a dataframe\n",
    "ul_cost = pd.DataFrame({'Cluster':range(1, 10), 'Cost':cost})"
   ]
  },
  {
   "cell_type": "code",
   "execution_count": 192,
   "id": "2298bd4b",
   "metadata": {},
   "outputs": [
    {
     "data": {
      "image/png": "[encoded data removed]",
      "text/plain": [
       "<Figure size 432x288 with 1 Axes>"
      ]
     },
     "metadata": {
      "needs_background": "light"
     },
     "output_type": "display_data"
    }
   ],
   "source": [
    "#Visualize the Elbow Plot\n",
    "import matplotlib.pyplot as plt\n",
    "plt.plot(range(1,10), cost, marker='o')\n",
    "plt.title('Elbow method')\n",
    "plt.xlabel('Number of clusters')\n",
    "plt.ylabel('Cost')\n",
    "plt.show()"
   ]
  },
  {
   "cell_type": "code",
   "execution_count": 193,
   "id": "ae9aa5fc",
   "metadata": {},
   "outputs": [],
   "source": [
    "#From the plot above, we could choose number of cluster k=6"
   ]
  },
  {
   "cell_type": "code",
   "execution_count": 194,
   "id": "8e3a7315",
   "metadata": {},
   "outputs": [
    {
     "data": {
      "text/plain": [
       "array([5, 4, 2, ..., 4, 3, 3], dtype=uint16)"
      ]
     },
     "execution_count": 194,
     "metadata": {},
     "output_type": "execute_result"
    }
   ],
   "source": [
    "#Fit the cluster\n",
    "kprototype = KPrototypes(n_jobs = -1, n_clusters = 6, init = 'Huang', random_state = 42)\n",
    "kprototype.fit_predict(ulMatrix, categorical = catColumnsPos)"
   ]
  },
  {
   "cell_type": "code",
   "execution_count": 195,
   "id": "e61d9716",
   "metadata": {},
   "outputs": [
    {
     "data": {
      "text/plain": [
       "array([['2594.063897763578', '52378.753993610226', '259.43130990415335',\n",
       "        '5.922257720979766', '1767.9978700745473', '12.133045747511176',\n",
       "        '18.227177869778473', '9.174653887113951', '161.71385548036065',\n",
       "        '16.127955273190498', '6.094132039747553', '54.09051125600569',\n",
       "        'whisky', 'supermarket'],\n",
       "       ['2606.137931034483', '51205.93103448276', '251.6551724137931',\n",
       "        '8.793103448275861', '1198.2758620689656', '17.72758622827201',\n",
       "        '26.59275870487608', '326.8965517241379', '6265.297228582974',\n",
       "        '385.44827586206895', '8.865172427276086', '2085.101381499192',\n",
       "        'whisky', 'supermarket'],\n",
       "       ['2597.9003623188405', '50470.171195652176', '276.6675724637681',\n",
       "        '5.884057971014493', '1777.8985507246377', '12.34668473057125',\n",
       "        '18.544456563134123', '8.4375', '151.70019089916477',\n",
       "        '14.902445653426474', '6.197771723287693', '50.71027171331039',\n",
       "        'whisky', 'supermarket'],\n",
       "       ['2600.6527030851967', '50348.20181149165', '268.82224738182845',\n",
       "        '12.705632606849703', '699.2074724030568', '10.13071324814827',\n",
       "        '15.206940275631442', '10.175771299179168', '135.06779818834477',\n",
       "        '7.09704783889092', '5.076227009827848', '45.06849708072598',\n",
       "        'whisky', 'supermarket'],\n",
       "       ['2609.889705882353', '51314.32679738562', '260.97058823529414',\n",
       "        '13.306372549019608', '695.9558823529412', '10.046560436292411',\n",
       "        '15.078643795224576', '8.016339869281046', '104.19075160244711',\n",
       "        '5.849501637468005', '5.0320833362395465', '34.77209967735156',\n",
       "        'whisky', 'supermarket'],\n",
       "       ['2587.0012662234885', '52482.9863880975', '265.7056030389364',\n",
       "        '13.160810383032604', '690.9465020576132', '10.022687547340466',\n",
       "        '15.042947150401279', '9.443178220955998', '118.59203565343341',\n",
       "        '6.305485917160352', '5.020259581003886', '39.64890476350884',\n",
       "        'whisky', 'supermarket']], dtype='<U32')"
      ]
     },
     "execution_count": 195,
     "metadata": {},
     "output_type": "execute_result"
    }
   ],
   "source": [
    "#See the cluster centroid\n",
    "kprototype.cluster_centroids_"
   ]
  },
  {
   "cell_type": "code",
   "execution_count": 196,
   "id": "d2b99dff",
   "metadata": {},
   "outputs": [
    {
     "data": {
      "text/plain": [
       "8"
      ]
     },
     "execution_count": 196,
     "metadata": {},
     "output_type": "execute_result"
    }
   ],
   "source": [
    "#check the iteration of the clusters created\n",
    "kprototype.n_iter_"
   ]
  },
  {
   "cell_type": "code",
   "execution_count": 197,
   "id": "6dd0c3bd",
   "metadata": {},
   "outputs": [
    {
     "data": {
      "text/plain": [
       "2521970633.848912"
      ]
     },
     "execution_count": 197,
     "metadata": {},
     "output_type": "execute_result"
    }
   ],
   "source": [
    "#check the cost of the clusters created\n",
    "kprototype.cost_"
   ]
  },
  {
   "cell_type": "code",
   "execution_count": 204,
   "id": "f9da7e78",
   "metadata": {},
   "outputs": [],
   "source": [
    "#Add the cluster labels to the dataframe\n",
    "ul['cluster_label'] = kprototype.labels_\n",
    "ul['segment'] = ul['cluster_label'].map({0:'first', 1:'second', 2:'third', 3:'fourth', 4:'fifth', 5:'sixth'})"
   ]
  },
  {
   "cell_type": "code",
   "execution_count": 205,
   "id": "358a40bf",
   "metadata": {},
   "outputs": [],
   "source": [
    "#Order the cluster\n",
    "ul['segment']=ul['segment'].astype('category')\n",
    "ul['segment'] = ul['segment'].cat.reorder_categories(['first','second','third','fourth','fifth','sixth'])"
   ]
  },
  {
   "cell_type": "code",
   "execution_count": 212,
   "id": "ed859ec2",
   "metadata": {},
   "outputs": [
    {
     "data": {
      "text/html": [
       "<div>\n",
       "<style scoped>\n",
       "    .dataframe tbody tr th:only-of-type {\n",
       "        vertical-align: middle;\n",
       "    }\n",
       "\n",
       "    .dataframe tbody tr th {\n",
       "        vertical-align: top;\n",
       "    }\n",
       "\n",
       "    .dataframe thead th {\n",
       "        text-align: right;\n",
       "    }\n",
       "</style>\n",
       "<table border=\"1\" class=\"dataframe\">\n",
       "  <thead>\n",
       "    <tr style=\"text-align: right;\">\n",
       "      <th></th>\n",
       "      <th>segment</th>\n",
       "      <th>total</th>\n",
       "      <th>store_number</th>\n",
       "      <th>zip_code</th>\n",
       "      <th>vendor_number</th>\n",
       "      <th>pack</th>\n",
       "      <th>bottle_volume_ml</th>\n",
       "      <th>state_bottle_cost</th>\n",
       "      <th>state_bottle_retail</th>\n",
       "      <th>bottles_sold</th>\n",
       "      <th>sale_dollars</th>\n",
       "      <th>volume_sold_liters</th>\n",
       "      <th>profit_per_bottle</th>\n",
       "      <th>profit_per_sale</th>\n",
       "      <th>liquor_type</th>\n",
       "      <th>store_type</th>\n",
       "    </tr>\n",
       "  </thead>\n",
       "  <tbody>\n",
       "    <tr>\n",
       "      <th>0</th>\n",
       "      <td>first</td>\n",
       "      <td>939</td>\n",
       "      <td>2616</td>\n",
       "      <td>52402</td>\n",
       "      <td>260</td>\n",
       "      <td>6</td>\n",
       "      <td>1767.997870</td>\n",
       "      <td>12.133046</td>\n",
       "      <td>18.227179</td>\n",
       "      <td>9.174654</td>\n",
       "      <td>161.713852</td>\n",
       "      <td>16.127954</td>\n",
       "      <td>6.094132</td>\n",
       "      <td>54.090511</td>\n",
       "      <td>whisky</td>\n",
       "      <td>supermarket</td>\n",
       "    </tr>\n",
       "    <tr>\n",
       "      <th>1</th>\n",
       "      <td>second</td>\n",
       "      <td>29</td>\n",
       "      <td>2633</td>\n",
       "      <td>50320</td>\n",
       "      <td>260</td>\n",
       "      <td>[6, 12]</td>\n",
       "      <td>1198.275862</td>\n",
       "      <td>17.727587</td>\n",
       "      <td>26.592758</td>\n",
       "      <td>326.896552</td>\n",
       "      <td>6265.297363</td>\n",
       "      <td>385.448273</td>\n",
       "      <td>8.865172</td>\n",
       "      <td>2085.101318</td>\n",
       "      <td>whisky</td>\n",
       "      <td>supermarket</td>\n",
       "    </tr>\n",
       "    <tr>\n",
       "      <th>2</th>\n",
       "      <td>third</td>\n",
       "      <td>1104</td>\n",
       "      <td>2663</td>\n",
       "      <td>50401</td>\n",
       "      <td>434</td>\n",
       "      <td>6</td>\n",
       "      <td>1777.898551</td>\n",
       "      <td>12.346684</td>\n",
       "      <td>18.544456</td>\n",
       "      <td>8.437500</td>\n",
       "      <td>151.700195</td>\n",
       "      <td>14.902446</td>\n",
       "      <td>6.197772</td>\n",
       "      <td>50.710270</td>\n",
       "      <td>whisky</td>\n",
       "      <td>supermarket</td>\n",
       "    </tr>\n",
       "    <tr>\n",
       "      <th>3</th>\n",
       "      <td>fourth</td>\n",
       "      <td>3533</td>\n",
       "      <td>2633</td>\n",
       "      <td>50320</td>\n",
       "      <td>260</td>\n",
       "      <td>12</td>\n",
       "      <td>699.207472</td>\n",
       "      <td>10.130713</td>\n",
       "      <td>15.206941</td>\n",
       "      <td>10.175771</td>\n",
       "      <td>135.067795</td>\n",
       "      <td>7.097048</td>\n",
       "      <td>5.076227</td>\n",
       "      <td>45.068497</td>\n",
       "      <td>whisky</td>\n",
       "      <td>supermarket</td>\n",
       "    </tr>\n",
       "    <tr>\n",
       "      <th>4</th>\n",
       "      <td>fifth</td>\n",
       "      <td>1224</td>\n",
       "      <td>2565</td>\n",
       "      <td>51501</td>\n",
       "      <td>260</td>\n",
       "      <td>12</td>\n",
       "      <td>695.955882</td>\n",
       "      <td>10.046560</td>\n",
       "      <td>15.078644</td>\n",
       "      <td>8.016340</td>\n",
       "      <td>104.190750</td>\n",
       "      <td>5.849502</td>\n",
       "      <td>5.032084</td>\n",
       "      <td>34.772099</td>\n",
       "      <td>whisky</td>\n",
       "      <td>supermarket</td>\n",
       "    </tr>\n",
       "    <tr>\n",
       "      <th>5</th>\n",
       "      <td>sixth</td>\n",
       "      <td>3159</td>\n",
       "      <td>2512</td>\n",
       "      <td>52402</td>\n",
       "      <td>260</td>\n",
       "      <td>12</td>\n",
       "      <td>690.946502</td>\n",
       "      <td>10.022688</td>\n",
       "      <td>15.042947</td>\n",
       "      <td>9.443178</td>\n",
       "      <td>118.592033</td>\n",
       "      <td>6.305486</td>\n",
       "      <td>5.020259</td>\n",
       "      <td>39.648903</td>\n",
       "      <td>whisky</td>\n",
       "      <td>supermarket</td>\n",
       "    </tr>\n",
       "  </tbody>\n",
       "</table>\n",
       "</div>"
      ],
      "text/plain": [
       "  segment  total  store_number  zip_code  vendor_number     pack  \\\n",
       "0   first    939          2616     52402            260        6   \n",
       "1  second     29          2633     50320            260  [6, 12]   \n",
       "2   third   1104          2663     50401            434        6   \n",
       "3  fourth   3533          2633     50320            260       12   \n",
       "4   fifth   1224          2565     51501            260       12   \n",
       "5   sixth   3159          2512     52402            260       12   \n",
       "\n",
       "   bottle_volume_ml  state_bottle_cost  state_bottle_retail  bottles_sold  \\\n",
       "0       1767.997870          12.133046            18.227179      9.174654   \n",
       "1       1198.275862          17.727587            26.592758    326.896552   \n",
       "2       1777.898551          12.346684            18.544456      8.437500   \n",
       "3        699.207472          10.130713            15.206941     10.175771   \n",
       "4        695.955882          10.046560            15.078644      8.016340   \n",
       "5        690.946502          10.022688            15.042947      9.443178   \n",
       "\n",
       "   sale_dollars  volume_sold_liters  profit_per_bottle  profit_per_sale  \\\n",
       "0    161.713852           16.127954           6.094132        54.090511   \n",
       "1   6265.297363          385.448273           8.865172      2085.101318   \n",
       "2    151.700195           14.902446           6.197772        50.710270   \n",
       "3    135.067795            7.097048           5.076227        45.068497   \n",
       "4    104.190750            5.849502           5.032084        34.772099   \n",
       "5    118.592033            6.305486           5.020259        39.648903   \n",
       "\n",
       "  liquor_type   store_type  \n",
       "0      whisky  supermarket  \n",
       "1      whisky  supermarket  \n",
       "2      whisky  supermarket  \n",
       "3      whisky  supermarket  \n",
       "4      whisky  supermarket  \n",
       "5      whisky  supermarket  "
      ]
     },
     "execution_count": 212,
     "metadata": {},
     "output_type": "execute_result"
    }
   ],
   "source": [
    "#Cluster interpretation\n",
    "ul.rename(columns = {'cluster_label':'total'}, inplace = True)\n",
    "ul.groupby('segment').agg(\n",
    "    {\n",
    "        'total':'count',\n",
    "        'store_number':pd.Series.mode,\n",
    "        'zip_code':pd.Series.mode,\n",
    "        'vendor_number':pd.Series.mode,\n",
    "        'pack':pd.Series.mode,\n",
    "        'bottle_volume_ml':'mean',\n",
    "        'state_bottle_cost':'mean',\n",
    "        'state_bottle_retail':'mean',\n",
    "        'bottles_sold':'mean',\n",
    "        'sale_dollars':'mean',\n",
    "        'volume_sold_liters':'mean',\n",
    "        'profit_per_bottle':'mean',\n",
    "        'profit_per_sale':'mean',\n",
    "        'liquor_type':pd.Series.mode,\n",
    "        'store_type':pd.Series.mode\n",
    "    }\n",
    ").reset_index()"
   ]
  },
  {
   "cell_type": "code",
   "execution_count": null,
   "id": "4a707f8f",
   "metadata": {},
   "outputs": [],
   "source": []
  }
 ],
 "metadata": {
  "kernelspec": {
   "display_name": "Python 3",
   "language": "python",
   "name": "python3"
  },
  "language_info": {
   "codemirror_mode": {
    "name": "ipython",
    "version": 3
   },
   "file_extension": ".py",
   "mimetype": "text/x-python",
   "name": "python",
   "nbconvert_exporter": "python",
   "pygments_lexer": "ipython3",
   "version": "3.8.8"
  }
 },
 "nbformat": 4,
 "nbformat_minor": 5
}
